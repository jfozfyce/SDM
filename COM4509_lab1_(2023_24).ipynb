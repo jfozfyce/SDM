{
  "cells": [
    {
      "cell_type": "markdown",
      "metadata": {
        "id": "view-in-github",
        "colab_type": "text"
      },
      "source": [
        "<a href=\"https://colab.research.google.com/github/jfozfyce/SDM/blob/master/COM4509_lab1_(2023_24).ipynb\" target=\"_parent\"><img src=\"https://colab.research.google.com/assets/colab-badge.svg\" alt=\"Open In Colab\"/></a>"
      ]
    },
    {
      "cell_type": "markdown",
      "metadata": {
        "id": "MO2HehZvwPXc"
      },
      "source": [
        "# COM4509/6509 - Lab 1: Probability\n",
        "\n",
        "The first half of the notebook introduces some tools we will use. It is anticipated that this will take longer than the hour of the lab. Please finish in your own time - feel free to work with your friends on the lab!\n",
        "\n",
        "## Python and Jupyter\n",
        "\n",
        "You are currently looking at a jupyter notebook, that uses python. If you've not coded in python before, you should spend a few hours getting used to it. See the [official python tutorial](https://docs.python.org/3/tutorial/index.html). Jupyter notebooks are an interactive way of coding, making notes, plotting graphs etc. They are useful as a tool for doing exploratory data analysis, but in real projects it is usually necessary to eventually build a python module with proper class structures, etc.\n",
        "\n",
        "## Getting it running on your computer\n",
        "\n",
        "The easiest way to get going with python, jupyter and various libraries useful for machine learning is to install the [anaconda distribution](https://www.anaconda.com/products/distribution). You could also try using google colabs, although that can be awkward (e.g. saving changes, etc)."
      ]
    },
    {
      "cell_type": "markdown",
      "source": [
        "## Intro to python, jupyter notebooks, numpy.\n",
        "\n",
        "We'll be coding in python, using juyter/colab notebooks, like this one.\n",
        "\n",
        "The content is in different 'cells'. Some are text (like this one) and some are code, like the next one:"
      ],
      "metadata": {
        "id": "XQ1ZvwYqyZP8"
      }
    },
    {
      "cell_type": "code",
      "source": [
        "print(\"I'm a \"+\"code\"+\" cell!\")"
      ],
      "metadata": {
        "colab": {
          "base_uri": "https://localhost:8080/"
        },
        "id": "GsGMGJFpxyan",
        "outputId": "750e9d06-4c36-4ec8-ad25-4a5ffe4b0f74"
      },
      "execution_count": null,
      "outputs": [
        {
          "output_type": "stream",
          "name": "stdout",
          "text": [
            "I'm a code cell!\n"
          ]
        }
      ]
    },
    {
      "cell_type": "markdown",
      "source": [
        "You can edit cells by double clicking on them and run the code cells by click the \"Run cell\" arrow (on the left hand side if you mouse over the cell). Try clicking on the run cell arrow in the cell above.\n",
        "\n",
        "**Tip: if you have a code cell selected Ctrl+Enter runs it, and Shift+Enter runs it and moves onto the next cell.**\n",
        "\n",
        "We use libraries when coding, that contain lots of useful tools and functions. A key one for doing machine learning is **numpy**. We can import it like this:"
      ],
      "metadata": {
        "id": "YnWTYJfsyyzK"
      }
    },
    {
      "cell_type": "code",
      "source": [
        "import numpy as np"
      ],
      "metadata": {
        "id": "7MV25VjZzD1Y"
      },
      "execution_count": null,
      "outputs": []
    },
    {
      "cell_type": "markdown",
      "source": [
        "We can then use functions from it like this:"
      ],
      "metadata": {
        "id": "g9mmw9imz-e4"
      }
    },
    {
      "cell_type": "code",
      "source": [
        "np.cos(np.pi)"
      ],
      "metadata": {
        "colab": {
          "base_uri": "https://localhost:8080/"
        },
        "id": "vab2u8Lhz9wY",
        "outputId": "f52bf4f0-d0ca-4962-def6-327fae2c83c6"
      },
      "execution_count": null,
      "outputs": [
        {
          "output_type": "execute_result",
          "data": {
            "text/plain": [
              "-1.0"
            ]
          },
          "metadata": {},
          "execution_count": 3
        }
      ]
    },
    {
      "cell_type": "markdown",
      "source": [
        "## Intro to numpy\n",
        "\n",
        "We can use it to define vectors, matrices, etc...\n",
        "\n",
        "- A vector is a list of numbers\n",
        "- A matrix is a table of numbers\n",
        "\n",
        "For example, we might have a list of the grades of the class:"
      ],
      "metadata": {
        "id": "mXZlI11f0LIl"
      }
    },
    {
      "cell_type": "code",
      "source": [
        "grades = np.array([54,34,57,22,84,93,14,45,75,55,84,51,62,44])"
      ],
      "metadata": {
        "id": "WILqk_OP0K8Y"
      },
      "execution_count": null,
      "outputs": []
    },
    {
      "cell_type": "markdown",
      "source": [
        "- this is a vector that's 14 long, and is one dimensional. Let's display it: (the last thing in a cell has its output printed)."
      ],
      "metadata": {
        "id": "l6iz3t210fHS"
      }
    },
    {
      "cell_type": "code",
      "source": [
        "grades"
      ],
      "metadata": {
        "colab": {
          "base_uri": "https://localhost:8080/"
        },
        "id": "hQxgSAGv0HT2",
        "outputId": "bee4067c-40cb-4106-f762-2efb0d5d39da"
      },
      "execution_count": null,
      "outputs": [
        {
          "output_type": "execute_result",
          "data": {
            "text/plain": [
              "array([54, 34, 57, 22, 84, 93, 14, 45, 75, 55, 84, 51, 62, 44])"
            ]
          },
          "metadata": {},
          "execution_count": 5
        }
      ]
    },
    {
      "cell_type": "markdown",
      "source": [
        "We can ask for the 'shape' of this variable:"
      ],
      "metadata": {
        "id": "9cpGuS6603cm"
      }
    },
    {
      "cell_type": "code",
      "source": [
        "grades.shape"
      ],
      "metadata": {
        "colab": {
          "base_uri": "https://localhost:8080/"
        },
        "id": "Uq4dry8x02YU",
        "outputId": "1a738cf6-15a3-4b03-b563-fa0a4175f5b6"
      },
      "execution_count": null,
      "outputs": [
        {
          "output_type": "execute_result",
          "data": {
            "text/plain": [
              "(14,)"
            ]
          },
          "metadata": {},
          "execution_count": 6
        }
      ]
    },
    {
      "cell_type": "markdown",
      "source": [
        "We can find out what the mean of the grades is:"
      ],
      "metadata": {
        "id": "NvkfNk_m07vq"
      }
    },
    {
      "cell_type": "code",
      "source": [
        "np.mean(grades)"
      ],
      "metadata": {
        "colab": {
          "base_uri": "https://localhost:8080/"
        },
        "id": "u_JRgHtr07ij",
        "outputId": "9868bb6d-eecd-44f2-a25d-d60e47019207"
      },
      "execution_count": null,
      "outputs": [
        {
          "output_type": "execute_result",
          "data": {
            "text/plain": [
              "55.285714285714285"
            ]
          },
          "metadata": {},
          "execution_count": 7
        }
      ]
    },
    {
      "cell_type": "markdown",
      "source": [
        "We can get just the first item using:"
      ],
      "metadata": {
        "id": "NP7vjMTm1cf3"
      }
    },
    {
      "cell_type": "code",
      "source": [
        "grades[0]"
      ],
      "metadata": {
        "colab": {
          "base_uri": "https://localhost:8080/"
        },
        "id": "W4WHICpQ1cFG",
        "outputId": "03082044-72a8-4bfe-830a-5eb7aec8354f"
      },
      "execution_count": null,
      "outputs": [
        {
          "output_type": "execute_result",
          "data": {
            "text/plain": [
              "54"
            ]
          },
          "metadata": {},
          "execution_count": 8
        }
      ]
    },
    {
      "cell_type": "markdown",
      "source": [
        "Notice that the first item has index ZERO (not one).\n",
        "\n",
        "We can get the last item using -1:"
      ],
      "metadata": {
        "id": "EB0eaSIP1g_V"
      }
    },
    {
      "cell_type": "code",
      "source": [
        "grades[-1]"
      ],
      "metadata": {
        "colab": {
          "base_uri": "https://localhost:8080/"
        },
        "id": "XNx1ekpk1mHK",
        "outputId": "10204807-a73f-4d04-a1a1-7fd1ff4cf237"
      },
      "execution_count": null,
      "outputs": [
        {
          "output_type": "execute_result",
          "data": {
            "text/plain": [
              "44"
            ]
          },
          "metadata": {},
          "execution_count": 9
        }
      ]
    },
    {
      "cell_type": "markdown",
      "source": [
        "There's useful syntax called slice notation. For example:\n",
        "- if we want the first five items, we use `grades[:5]`\n",
        "- we we want the last three itesm we use `grades[-3:]`\n",
        "- if we want those at indexes 1,2 and 3: `grades[1:4]` - this is more tricky, have a think about what's going on.\n",
        "- if we want just the ones at 1,3,5,7,9...etc we can use: `grades[[1,3,5,7,9,11,13]]` or we can also tell it how to step through `grades[1::2]` means it steps through two at a time, starting at index 1."
      ],
      "metadata": {
        "id": "pXnbQvSo1nnK"
      }
    },
    {
      "cell_type": "code",
      "source": [
        "# try out some of these examples here\n"
      ],
      "metadata": {
        "id": "FFGQUcUE14wF"
      },
      "execution_count": null,
      "outputs": []
    },
    {
      "cell_type": "markdown",
      "source": [
        "We have another vector that tells us which students are MSc students."
      ],
      "metadata": {
        "id": "KB9ggioM1CJz"
      }
    },
    {
      "cell_type": "code",
      "source": [
        "msc = np.array([True,False,False,False,True,True,False,False,True,False,True,False,True,False])"
      ],
      "metadata": {
        "id": "L6LKSWyo05_s"
      },
      "execution_count": null,
      "outputs": []
    },
    {
      "cell_type": "markdown",
      "source": [
        "We can index the grades array using this array:"
      ],
      "metadata": {
        "id": "luAFujAb1RhM"
      }
    },
    {
      "cell_type": "code",
      "source": [
        "grades[msc]"
      ],
      "metadata": {
        "colab": {
          "base_uri": "https://localhost:8080/"
        },
        "id": "rlUi0NZG1Qsu",
        "outputId": "a5b2a852-4e3d-414f-fd1e-3f5561ab11dd"
      },
      "execution_count": null,
      "outputs": [
        {
          "output_type": "execute_result",
          "data": {
            "text/plain": [
              "array([54, 84, 93, 75, 84, 62])"
            ]
          },
          "metadata": {},
          "execution_count": 12
        }
      ]
    },
    {
      "cell_type": "markdown",
      "source": [
        "And get the average of these:"
      ],
      "metadata": {
        "id": "LiS2h0Ab2cVk"
      }
    },
    {
      "cell_type": "code",
      "source": [
        "np.mean(grades[msc])"
      ],
      "metadata": {
        "colab": {
          "base_uri": "https://localhost:8080/"
        },
        "id": "37flEZ3H1VAc",
        "outputId": "7eed17cf-61b3-4b3c-f65a-1eb03593bd69"
      },
      "execution_count": null,
      "outputs": [
        {
          "output_type": "execute_result",
          "data": {
            "text/plain": [
              "75.33333333333333"
            ]
          },
          "metadata": {},
          "execution_count": 13
        }
      ]
    },
    {
      "cell_type": "markdown",
      "source": [
        "We could put them into a separate variable,"
      ],
      "metadata": {
        "id": "lKW7fRBa2zyV"
      }
    },
    {
      "cell_type": "code",
      "source": [
        "mscgrades = grades[msc]"
      ],
      "metadata": {
        "id": "gqP8oRE-2yHO"
      },
      "execution_count": null,
      "outputs": []
    },
    {
      "cell_type": "markdown",
      "source": [
        "What's the average of the other students?"
      ],
      "metadata": {
        "id": "bpOSoyit27T9"
      }
    },
    {
      "cell_type": "code",
      "source": [
        "np.mean(grades[~msc]) # ~ means 'not'"
      ],
      "metadata": {
        "colab": {
          "base_uri": "https://localhost:8080/"
        },
        "id": "2OwRdY1G23IM",
        "outputId": "cb1cbb1d-ebd1-4acc-bd94-2551b7523f84"
      },
      "execution_count": null,
      "outputs": [
        {
          "output_type": "execute_result",
          "data": {
            "text/plain": [
              "40.25"
            ]
          },
          "metadata": {},
          "execution_count": 15
        }
      ]
    },
    {
      "cell_type": "markdown",
      "source": [
        "What proportion of those on the BSc programme are over 40%?\n",
        "We can do a boolean comparison to each element in the vector. This will make a new vector with Trues and Falses in:"
      ],
      "metadata": {
        "id": "pJkm8Ifc3CSd"
      }
    },
    {
      "cell_type": "code",
      "source": [
        "grades[~msc]>40"
      ],
      "metadata": {
        "colab": {
          "base_uri": "https://localhost:8080/"
        },
        "id": "gvuk-XPI3AfV",
        "outputId": "a675ffab-73bc-45fa-8049-ddaefdf074c0"
      },
      "execution_count": null,
      "outputs": [
        {
          "output_type": "execute_result",
          "data": {
            "text/plain": [
              "array([False,  True, False, False,  True,  True,  True,  True])"
            ]
          },
          "metadata": {},
          "execution_count": 16
        }
      ]
    },
    {
      "cell_type": "markdown",
      "source": [
        "We are able to ask for the mean of this as it treats 'True' as '1' and 'False' as '0', so the mean will give the proportion that are above 40:"
      ],
      "metadata": {
        "id": "Glqjr6DA3bXc"
      }
    },
    {
      "cell_type": "code",
      "source": [
        "np.mean(grades[~msc]>40)"
      ],
      "metadata": {
        "colab": {
          "base_uri": "https://localhost:8080/"
        },
        "id": "-uae6_Ln3axI",
        "outputId": "d98cac10-f053-402b-c5cc-48e9bf368a2b"
      },
      "execution_count": null,
      "outputs": [
        {
          "output_type": "execute_result",
          "data": {
            "text/plain": [
              "0.625"
            ]
          },
          "metadata": {},
          "execution_count": 17
        }
      ]
    },
    {
      "cell_type": "code",
      "source": [
        "attendance = np.array([0.5,0.6,0.4,0.4,0.9,0.9,0.2,0.3,0.8,0.5,0.9,0.5,0.6,0.4])"
      ],
      "metadata": {
        "id": "zuc7MkYJ5tAB"
      },
      "execution_count": null,
      "outputs": []
    },
    {
      "cell_type": "markdown",
      "source": [
        "### Matrices?\n",
        "\n",
        "(note: in numpy nowadays we just use `array` for everything, including vectors, matrices and higher-order tensors).\n",
        "\n",
        "We might have a table that has *both* the grade and if their on the MSc programme, rather than two separate vectors.\n",
        "\n",
        "We can build a matrix from our vectors, using this syntax:"
      ],
      "metadata": {
        "id": "bSEC_Os04Cel"
      }
    },
    {
      "cell_type": "code",
      "source": [
        "students = np.c_[grades,msc,attendance] #this means we want to join columns together\n",
        "\n",
        "students #written here to make it print, note that it's converted the boolean Trues/Falses into 1s and 0s - as all the types must be the same in an array."
      ],
      "metadata": {
        "colab": {
          "base_uri": "https://localhost:8080/"
        },
        "id": "2xBHPPLf4SsP",
        "outputId": "be5e2bd7-1fca-484d-d611-362f8fe36523"
      },
      "execution_count": null,
      "outputs": [
        {
          "output_type": "execute_result",
          "data": {
            "text/plain": [
              "array([[54. ,  1. ,  0.5],\n",
              "       [34. ,  0. ,  0.6],\n",
              "       [57. ,  0. ,  0.4],\n",
              "       [22. ,  0. ,  0.4],\n",
              "       [84. ,  1. ,  0.9],\n",
              "       [93. ,  1. ,  0.9],\n",
              "       [14. ,  0. ,  0.2],\n",
              "       [45. ,  0. ,  0.3],\n",
              "       [75. ,  1. ,  0.8],\n",
              "       [55. ,  0. ,  0.5],\n",
              "       [84. ,  1. ,  0.9],\n",
              "       [51. ,  0. ,  0.5],\n",
              "       [62. ,  1. ,  0.6],\n",
              "       [44. ,  0. ,  0.4]])"
            ]
          },
          "metadata": {},
          "execution_count": 19
        }
      ]
    },
    {
      "cell_type": "markdown",
      "source": [
        "What shape is students?"
      ],
      "metadata": {
        "id": "UxbkBZ744Zu0"
      }
    },
    {
      "cell_type": "code",
      "source": [
        "students.shape"
      ],
      "metadata": {
        "colab": {
          "base_uri": "https://localhost:8080/"
        },
        "id": "OWsr1uqT4Yq8",
        "outputId": "86735eb4-93a7-4b4d-c39b-6532c6a6e726"
      },
      "execution_count": null,
      "outputs": [
        {
          "output_type": "execute_result",
          "data": {
            "text/plain": [
              "(14, 3)"
            ]
          },
          "metadata": {},
          "execution_count": 20
        }
      ]
    },
    {
      "cell_type": "markdown",
      "source": [
        "This is in the order mathematicians are used to: Number of rows, Number of columns: So there are 14 rows and 3 columns.\n",
        "\n",
        "We can ask for the grade of student at index=4 down:"
      ],
      "metadata": {
        "id": "tYPigsHr4hDR"
      }
    },
    {
      "cell_type": "code",
      "source": [
        "students[4,0] #this asks for row number 4, column number 0"
      ],
      "metadata": {
        "colab": {
          "base_uri": "https://localhost:8080/"
        },
        "id": "v4-GqlKB5bQk",
        "outputId": "3a8f3dbb-bc79-4b2c-e16f-804e10b495af"
      },
      "execution_count": null,
      "outputs": [
        {
          "output_type": "execute_result",
          "data": {
            "text/plain": [
              "84.0"
            ]
          },
          "metadata": {},
          "execution_count": 21
        }
      ]
    },
    {
      "cell_type": "markdown",
      "source": [
        "If we want the attendance of students between rows 4 and 8,"
      ],
      "metadata": {
        "id": "P-dRxrov6DRq"
      }
    },
    {
      "cell_type": "code",
      "source": [
        "students[4:9,2] #as it's 4-8 inclusive, we need to ask for 4:9. The '2' tells it that we want column number 2."
      ],
      "metadata": {
        "colab": {
          "base_uri": "https://localhost:8080/"
        },
        "id": "bCB4j-xU6K5D",
        "outputId": "713a7eea-e85e-455d-c4a2-5917ec2904ff"
      },
      "execution_count": null,
      "outputs": [
        {
          "output_type": "execute_result",
          "data": {
            "text/plain": [
              "array([0.9, 0.9, 0.2, 0.3, 0.8])"
            ]
          },
          "metadata": {},
          "execution_count": 22
        }
      ]
    },
    {
      "cell_type": "markdown",
      "source": [
        "We've been told that, as the undergrad students have worked so hard this semester they are all going to get an extra 3 marks added. How can we do that?\n",
        "\n",
        "We can pick out the rows that are undergrads like this.\n",
        "\n",
        "1) The students that are undergrads are found at:"
      ],
      "metadata": {
        "id": "t8c_tI3L4n-P"
      }
    },
    {
      "cell_type": "code",
      "source": [
        "students[:,1]==0"
      ],
      "metadata": {
        "colab": {
          "base_uri": "https://localhost:8080/"
        },
        "id": "VjLFCEyI4g0G",
        "outputId": "5d985c17-9c74-476f-dfab-3ee9d285ed81"
      },
      "execution_count": null,
      "outputs": [
        {
          "output_type": "execute_result",
          "data": {
            "text/plain": [
              "array([False,  True,  True,  True, False, False,  True,  True, False,\n",
              "        True, False,  True, False,  True])"
            ]
          },
          "metadata": {},
          "execution_count": 23
        }
      ]
    },
    {
      "cell_type": "markdown",
      "source": [
        "2) So we can pick the grades out:"
      ],
      "metadata": {
        "id": "u1haYUew3pQ-"
      }
    },
    {
      "cell_type": "code",
      "source": [
        "students[students[:,1]==0,0] = students[students[:,1]==0,0] + 3 #this will change the students table !!! If you run this cell repeatedly you'll add 3 repeatedly!!"
      ],
      "metadata": {
        "id": "sSRv1B-A3n7J"
      },
      "execution_count": null,
      "outputs": []
    },
    {
      "cell_type": "code",
      "source": [
        "students"
      ],
      "metadata": {
        "colab": {
          "base_uri": "https://localhost:8080/"
        },
        "id": "mfKUjVGR6hZA",
        "outputId": "06291a4a-64ab-4af5-c84f-30f240866837"
      },
      "execution_count": null,
      "outputs": [
        {
          "output_type": "execute_result",
          "data": {
            "text/plain": [
              "array([[54. ,  1. ,  0.5],\n",
              "       [37. ,  0. ,  0.6],\n",
              "       [60. ,  0. ,  0.4],\n",
              "       [25. ,  0. ,  0.4],\n",
              "       [84. ,  1. ,  0.9],\n",
              "       [93. ,  1. ,  0.9],\n",
              "       [17. ,  0. ,  0.2],\n",
              "       [48. ,  0. ,  0.3],\n",
              "       [75. ,  1. ,  0.8],\n",
              "       [58. ,  0. ,  0.5],\n",
              "       [84. ,  1. ,  0.9],\n",
              "       [54. ,  0. ,  0.5],\n",
              "       [62. ,  1. ,  0.6],\n",
              "       [47. ,  0. ,  0.4]])"
            ]
          },
          "metadata": {},
          "execution_count": 25
        }
      ]
    },
    {
      "cell_type": "markdown",
      "source": [
        "Time to revisit some of the lecture info...\n",
        "\n",
        "- what is the probability of a student having a grade over 60? The estimator is simply the proportion of students that do:"
      ],
      "metadata": {
        "id": "segitQFG6orM"
      }
    },
    {
      "cell_type": "code",
      "source": [
        "np.mean(students[:,0]>60)"
      ],
      "metadata": {
        "colab": {
          "base_uri": "https://localhost:8080/"
        },
        "id": "Xdcldp-x6nmV",
        "outputId": "a0cc8c28-9c43-47b7-aca0-7cc34d9b61df"
      },
      "execution_count": null,
      "outputs": [
        {
          "output_type": "execute_result",
          "data": {
            "text/plain": [
              "0.35714285714285715"
            ]
          },
          "metadata": {},
          "execution_count": 26
        }
      ]
    },
    {
      "cell_type": "markdown",
      "source": [
        "- What is the probability of a student attending more that 0.65 of the lectures?"
      ],
      "metadata": {
        "id": "4RrdojIz60iV"
      }
    },
    {
      "cell_type": "code",
      "source": [
        "np.mean(students[:,2]>0.65)"
      ],
      "metadata": {
        "colab": {
          "base_uri": "https://localhost:8080/"
        },
        "id": "6WVYLPdF60Ak",
        "outputId": "c300e62e-aadc-46d0-ae77-c0df4a8c1b27"
      },
      "execution_count": null,
      "outputs": [
        {
          "output_type": "execute_result",
          "data": {
            "text/plain": [
              "0.2857142857142857"
            ]
          },
          "metadata": {},
          "execution_count": 27
        }
      ]
    },
    {
      "cell_type": "markdown",
      "source": [
        "What's the probability of a student getting a grade over 60 AND attending more than 0.65 of the lectures?"
      ],
      "metadata": {
        "id": "J7cni2Y168mp"
      }
    },
    {
      "cell_type": "code",
      "source": [
        "np.mean((students[:,0]>60) & (students[:,2]>0.65)) #corrected (was 0.55 before)"
      ],
      "metadata": {
        "colab": {
          "base_uri": "https://localhost:8080/"
        },
        "id": "8QBf1NXo7BcC",
        "outputId": "48821358-c96a-4fd8-e203-e61f05b87736"
      },
      "execution_count": null,
      "outputs": [
        {
          "output_type": "execute_result",
          "data": {
            "text/plain": [
              "0.2857142857142857"
            ]
          },
          "metadata": {},
          "execution_count": 28
        }
      ]
    },
    {
      "cell_type": "markdown",
      "source": [
        "Oh, let's stop and just look at what we did there...\n",
        "\n",
        "The first part `(students[:,0]>60)` generates a boolean vector of those with a mark over 40:"
      ],
      "metadata": {
        "id": "NLT3Ryoh7GJU"
      }
    },
    {
      "cell_type": "code",
      "source": [
        "students[:,0]>60"
      ],
      "metadata": {
        "colab": {
          "base_uri": "https://localhost:8080/"
        },
        "id": "uK7-D5Fi7O00",
        "outputId": "e295524d-2174-4977-ab60-a23a283d3020"
      },
      "execution_count": null,
      "outputs": [
        {
          "output_type": "execute_result",
          "data": {
            "text/plain": [
              "array([False, False, False, False,  True,  True, False, False,  True,\n",
              "       False,  True, False,  True, False])"
            ]
          },
          "metadata": {},
          "execution_count": 29
        }
      ]
    },
    {
      "cell_type": "markdown",
      "source": [
        "The second part `students[:,2]>0.65` does the same for those who attended lots:"
      ],
      "metadata": {
        "id": "voNkYv3Q7RAr"
      }
    },
    {
      "cell_type": "code",
      "source": [
        "students[:,2]>0.65"
      ],
      "metadata": {
        "colab": {
          "base_uri": "https://localhost:8080/"
        },
        "id": "5eZGakmE7V6v",
        "outputId": "42ede439-585c-494d-a79a-36f73dffe019"
      },
      "execution_count": null,
      "outputs": [
        {
          "output_type": "execute_result",
          "data": {
            "text/plain": [
              "array([False, False, False, False,  True,  True, False, False,  True,\n",
              "       False,  True, False, False, False])"
            ]
          },
          "metadata": {},
          "execution_count": 30
        }
      ]
    },
    {
      "cell_type": "markdown",
      "source": [
        "We can use the `&` operator to make a new boolean vector from these two, with True when both of the others are true.\n",
        "\n",
        "**Tip: The brackets are often necessary to ensure that we get the correct order of precedence.**"
      ],
      "metadata": {
        "id": "WB8xyNAM7BSZ"
      }
    },
    {
      "cell_type": "code",
      "source": [
        "(students[:,0]>60) & (students[:,2]>0.65)"
      ],
      "metadata": {
        "colab": {
          "base_uri": "https://localhost:8080/"
        },
        "id": "yLxsfRiU7kKj",
        "outputId": "05ef4965-8d72-428d-8fdc-00248cf6c8ca"
      },
      "execution_count": null,
      "outputs": [
        {
          "output_type": "execute_result",
          "data": {
            "text/plain": [
              "array([False, False, False, False,  True,  True, False, False,  True,\n",
              "       False,  True, False, False, False])"
            ]
          },
          "metadata": {},
          "execution_count": 31
        }
      ]
    },
    {
      "cell_type": "markdown",
      "source": [
        "So, does it seem likely that these are independent? Let's check:"
      ],
      "metadata": {
        "id": "Kp7iC6u87uhy"
      }
    },
    {
      "cell_type": "code",
      "source": [
        "np.mean(students[:,0]>60) * np.mean(students[:,2]>0.65) #corrected: was 0.55 before"
      ],
      "metadata": {
        "colab": {
          "base_uri": "https://localhost:8080/"
        },
        "id": "gSXJWGBz7uWG",
        "outputId": "cadef562-5984-43c2-f304-6010173b31a0"
      },
      "execution_count": null,
      "outputs": [
        {
          "output_type": "execute_result",
          "data": {
            "text/plain": [
              "0.10204081632653061"
            ]
          },
          "metadata": {},
          "execution_count": 32
        }
      ]
    },
    {
      "cell_type": "markdown",
      "source": [
        "0.10 is much smaller than 0.36, so it seems like they are not independent.\n",
        "\n",
        "This doesn't mean that it is causal! It might just be that good students do the worksheets, read the text book and go to lectures.\n",
        "\n",
        "If we knew if they had done the worksheet, it might be that the grade and lecture attendance are independent GIVEN whether they had done the worksheet."
      ],
      "metadata": {
        "id": "il3eay8C8cn3"
      }
    },
    {
      "cell_type": "markdown",
      "source": [
        "# Lab 1: Probability\n",
        "\n",
        "## Introduction to the Dataset\n",
        "\n",
        "For this exercise we'll use the [Diabetes Health Indicators Dataset](https://www.kaggle.com/datasets/alexteboul/diabetes-health-indicators-dataset): 253,680 Americans were called to ask about some of their health-related behaviours (eating fruit etc), and some health outcomes (have they diabetes, etc).\n",
        "\n",
        "We'll be accessing it using [pandas](https://pandas.pydata.org/docs/user_guide/index.html), a useful library for managing tables of data."
      ],
      "metadata": {
        "id": "cEnUQlwz9j8n"
      }
    },
    {
      "cell_type": "markdown",
      "metadata": {
        "id": "PVNE1RvTwPXi"
      },
      "source": [
        "We first need to import various modules we'll use, download the dataset and open it."
      ]
    },
    {
      "cell_type": "code",
      "execution_count": null,
      "metadata": {
        "id": "bJPKRyAHwPXl"
      },
      "outputs": [],
      "source": [
        "import pandas as pd   #useful for data access and manipulation\n",
        "import urllib.request #used to download the dataset\n",
        "import matplotlib.pyplot as plt #useful for plotting\n",
        "#ensure our plots appear in the notebook:\n",
        "%matplotlib inline\n",
        "import numpy as np    #numpy is useful for matrix/array/tensor manipulation"
      ]
    },
    {
      "cell_type": "markdown",
      "metadata": {
        "id": "OsLxYtdbwPXn"
      },
      "source": [
        "Now download and open the dataset:"
      ]
    },
    {
      "cell_type": "code",
      "execution_count": null,
      "metadata": {
        "id": "VwubPcGCwPXo"
      },
      "outputs": [],
      "source": [
        "urllib.request.urlretrieve('https://drive.google.com/u/0/uc?id=1dprY31miDsQSZZwMkOfHoqkH4TQ8gV2W&export=download', './diabetes.csv')\n",
        "df = pd.read_csv('diabetes.csv')"
      ]
    },
    {
      "cell_type": "markdown",
      "metadata": {
        "id": "MY-8VpDbwPXp"
      },
      "source": [
        "We can look at the content: It is a large table, containing 253680 rows (each row is a person) and 22 columns:"
      ]
    },
    {
      "cell_type": "code",
      "execution_count": null,
      "metadata": {
        "colab": {
          "base_uri": "https://localhost:8080/"
        },
        "id": "d5DDqGyFwPXr",
        "outputId": "0db19d25-3852-4b92-852d-139bcbee1778"
      },
      "outputs": [
        {
          "output_type": "stream",
          "name": "stdout",
          "text": [
            "The columns in the dataset:\n",
            "Index(['Unnamed: 0', 'Diabetes_012', 'HighBP', 'HighChol', 'CholCheck', 'BMI',\n",
            "       'Smoker', 'Stroke', 'HeartDiseaseorAttack', 'PhysActivity', 'Fruits',\n",
            "       'Veggies', 'HvyAlcoholConsump', 'AnyHealthcare', 'NoDocbcCost',\n",
            "       'GenHlth', 'MentHlth', 'PhysHlth', 'DiffWalk', 'Sex', 'Age',\n",
            "       'Education', 'Income'],\n",
            "      dtype='object')\n"
          ]
        }
      ],
      "source": [
        "print(\"The columns in the dataset:\")\n",
        "print(df.columns)"
      ]
    },
    {
      "cell_type": "markdown",
      "metadata": {
        "id": "RSoCZQMewPXs"
      },
      "source": [
        "The dataframe itself:"
      ]
    },
    {
      "cell_type": "code",
      "execution_count": null,
      "metadata": {
        "colab": {
          "base_uri": "https://localhost:8080/",
          "height": 461
        },
        "id": "Oi4QTfTxwPXs",
        "outputId": "cf7914eb-7385-4c90-8660-0d2d3dce89e4"
      },
      "outputs": [
        {
          "output_type": "execute_result",
          "data": {
            "text/plain": [
              "        Unnamed: 0  Diabetes_012  HighBP  HighChol  CholCheck   BMI  Smoker  \\\n",
              "0                0           0.0     1.0       1.0        1.0  40.0     1.0   \n",
              "1                1           0.0     0.0       0.0        0.0  25.0     1.0   \n",
              "2                2           0.0     1.0       1.0        1.0  28.0     0.0   \n",
              "3                3           0.0     1.0       0.0        1.0  27.0     0.0   \n",
              "4                4           0.0     1.0       1.0        1.0  24.0     0.0   \n",
              "...            ...           ...     ...       ...        ...   ...     ...   \n",
              "253675      253675           0.0     1.0       1.0        1.0  45.0     0.0   \n",
              "253676      253676           2.0     1.0       1.0        1.0  18.0     0.0   \n",
              "253677      253677           0.0     0.0       0.0        1.0  28.0     0.0   \n",
              "253678      253678           0.0     1.0       0.0        1.0  23.0     0.0   \n",
              "253679      253679           2.0     1.0       1.0        1.0  25.0     0.0   \n",
              "\n",
              "        Stroke  HeartDiseaseorAttack  PhysActivity  ...  AnyHealthcare  \\\n",
              "0          0.0                   0.0           0.0  ...            1.0   \n",
              "1          0.0                   0.0           1.0  ...            0.0   \n",
              "2          0.0                   0.0           0.0  ...            1.0   \n",
              "3          0.0                   0.0           1.0  ...            1.0   \n",
              "4          0.0                   0.0           1.0  ...            1.0   \n",
              "...        ...                   ...           ...  ...            ...   \n",
              "253675     0.0                   0.0           0.0  ...            1.0   \n",
              "253676     0.0                   0.0           0.0  ...            1.0   \n",
              "253677     0.0                   0.0           1.0  ...            1.0   \n",
              "253678     0.0                   0.0           0.0  ...            1.0   \n",
              "253679     0.0                   1.0           1.0  ...            1.0   \n",
              "\n",
              "        NoDocbcCost  GenHlth  MentHlth  PhysHlth  DiffWalk  Sex   Age  \\\n",
              "0               0.0      5.0      18.0      15.0       1.0  0.0  62.0   \n",
              "1               1.0      3.0       0.0       0.0       0.0  0.0  52.0   \n",
              "2               1.0      5.0      30.0      30.0       1.0  0.0  62.0   \n",
              "3               0.0      2.0       0.0       0.0       0.0  0.0  72.0   \n",
              "4               0.0      2.0       3.0       0.0       0.0  0.0  72.0   \n",
              "...             ...      ...       ...       ...       ...  ...   ...   \n",
              "253675          0.0      3.0       0.0       5.0       0.0  1.0  42.0   \n",
              "253676          0.0      4.0       0.0       0.0       1.0  0.0  72.0   \n",
              "253677          0.0      1.0       0.0       0.0       0.0  0.0  27.0   \n",
              "253678          0.0      3.0       0.0       0.0       0.0  1.0  52.0   \n",
              "253679          0.0      2.0       0.0       0.0       0.0  0.0  62.0   \n",
              "\n",
              "        Education  Income  \n",
              "0             4.0     3.0  \n",
              "1             6.0     1.0  \n",
              "2             4.0     8.0  \n",
              "3             3.0     6.0  \n",
              "4             5.0     4.0  \n",
              "...           ...     ...  \n",
              "253675        6.0     7.0  \n",
              "253676        2.0     4.0  \n",
              "253677        5.0     2.0  \n",
              "253678        5.0     1.0  \n",
              "253679        6.0     2.0  \n",
              "\n",
              "[253680 rows x 23 columns]"
            ],
            "text/html": [
              "\n",
              "  <div id=\"df-ab008d23-a9ba-4517-aa27-41149aee71af\" class=\"colab-df-container\">\n",
              "    <div>\n",
              "<style scoped>\n",
              "    .dataframe tbody tr th:only-of-type {\n",
              "        vertical-align: middle;\n",
              "    }\n",
              "\n",
              "    .dataframe tbody tr th {\n",
              "        vertical-align: top;\n",
              "    }\n",
              "\n",
              "    .dataframe thead th {\n",
              "        text-align: right;\n",
              "    }\n",
              "</style>\n",
              "<table border=\"1\" class=\"dataframe\">\n",
              "  <thead>\n",
              "    <tr style=\"text-align: right;\">\n",
              "      <th></th>\n",
              "      <th>Unnamed: 0</th>\n",
              "      <th>Diabetes_012</th>\n",
              "      <th>HighBP</th>\n",
              "      <th>HighChol</th>\n",
              "      <th>CholCheck</th>\n",
              "      <th>BMI</th>\n",
              "      <th>Smoker</th>\n",
              "      <th>Stroke</th>\n",
              "      <th>HeartDiseaseorAttack</th>\n",
              "      <th>PhysActivity</th>\n",
              "      <th>...</th>\n",
              "      <th>AnyHealthcare</th>\n",
              "      <th>NoDocbcCost</th>\n",
              "      <th>GenHlth</th>\n",
              "      <th>MentHlth</th>\n",
              "      <th>PhysHlth</th>\n",
              "      <th>DiffWalk</th>\n",
              "      <th>Sex</th>\n",
              "      <th>Age</th>\n",
              "      <th>Education</th>\n",
              "      <th>Income</th>\n",
              "    </tr>\n",
              "  </thead>\n",
              "  <tbody>\n",
              "    <tr>\n",
              "      <th>0</th>\n",
              "      <td>0</td>\n",
              "      <td>0.0</td>\n",
              "      <td>1.0</td>\n",
              "      <td>1.0</td>\n",
              "      <td>1.0</td>\n",
              "      <td>40.0</td>\n",
              "      <td>1.0</td>\n",
              "      <td>0.0</td>\n",
              "      <td>0.0</td>\n",
              "      <td>0.0</td>\n",
              "      <td>...</td>\n",
              "      <td>1.0</td>\n",
              "      <td>0.0</td>\n",
              "      <td>5.0</td>\n",
              "      <td>18.0</td>\n",
              "      <td>15.0</td>\n",
              "      <td>1.0</td>\n",
              "      <td>0.0</td>\n",
              "      <td>62.0</td>\n",
              "      <td>4.0</td>\n",
              "      <td>3.0</td>\n",
              "    </tr>\n",
              "    <tr>\n",
              "      <th>1</th>\n",
              "      <td>1</td>\n",
              "      <td>0.0</td>\n",
              "      <td>0.0</td>\n",
              "      <td>0.0</td>\n",
              "      <td>0.0</td>\n",
              "      <td>25.0</td>\n",
              "      <td>1.0</td>\n",
              "      <td>0.0</td>\n",
              "      <td>0.0</td>\n",
              "      <td>1.0</td>\n",
              "      <td>...</td>\n",
              "      <td>0.0</td>\n",
              "      <td>1.0</td>\n",
              "      <td>3.0</td>\n",
              "      <td>0.0</td>\n",
              "      <td>0.0</td>\n",
              "      <td>0.0</td>\n",
              "      <td>0.0</td>\n",
              "      <td>52.0</td>\n",
              "      <td>6.0</td>\n",
              "      <td>1.0</td>\n",
              "    </tr>\n",
              "    <tr>\n",
              "      <th>2</th>\n",
              "      <td>2</td>\n",
              "      <td>0.0</td>\n",
              "      <td>1.0</td>\n",
              "      <td>1.0</td>\n",
              "      <td>1.0</td>\n",
              "      <td>28.0</td>\n",
              "      <td>0.0</td>\n",
              "      <td>0.0</td>\n",
              "      <td>0.0</td>\n",
              "      <td>0.0</td>\n",
              "      <td>...</td>\n",
              "      <td>1.0</td>\n",
              "      <td>1.0</td>\n",
              "      <td>5.0</td>\n",
              "      <td>30.0</td>\n",
              "      <td>30.0</td>\n",
              "      <td>1.0</td>\n",
              "      <td>0.0</td>\n",
              "      <td>62.0</td>\n",
              "      <td>4.0</td>\n",
              "      <td>8.0</td>\n",
              "    </tr>\n",
              "    <tr>\n",
              "      <th>3</th>\n",
              "      <td>3</td>\n",
              "      <td>0.0</td>\n",
              "      <td>1.0</td>\n",
              "      <td>0.0</td>\n",
              "      <td>1.0</td>\n",
              "      <td>27.0</td>\n",
              "      <td>0.0</td>\n",
              "      <td>0.0</td>\n",
              "      <td>0.0</td>\n",
              "      <td>1.0</td>\n",
              "      <td>...</td>\n",
              "      <td>1.0</td>\n",
              "      <td>0.0</td>\n",
              "      <td>2.0</td>\n",
              "      <td>0.0</td>\n",
              "      <td>0.0</td>\n",
              "      <td>0.0</td>\n",
              "      <td>0.0</td>\n",
              "      <td>72.0</td>\n",
              "      <td>3.0</td>\n",
              "      <td>6.0</td>\n",
              "    </tr>\n",
              "    <tr>\n",
              "      <th>4</th>\n",
              "      <td>4</td>\n",
              "      <td>0.0</td>\n",
              "      <td>1.0</td>\n",
              "      <td>1.0</td>\n",
              "      <td>1.0</td>\n",
              "      <td>24.0</td>\n",
              "      <td>0.0</td>\n",
              "      <td>0.0</td>\n",
              "      <td>0.0</td>\n",
              "      <td>1.0</td>\n",
              "      <td>...</td>\n",
              "      <td>1.0</td>\n",
              "      <td>0.0</td>\n",
              "      <td>2.0</td>\n",
              "      <td>3.0</td>\n",
              "      <td>0.0</td>\n",
              "      <td>0.0</td>\n",
              "      <td>0.0</td>\n",
              "      <td>72.0</td>\n",
              "      <td>5.0</td>\n",
              "      <td>4.0</td>\n",
              "    </tr>\n",
              "    <tr>\n",
              "      <th>...</th>\n",
              "      <td>...</td>\n",
              "      <td>...</td>\n",
              "      <td>...</td>\n",
              "      <td>...</td>\n",
              "      <td>...</td>\n",
              "      <td>...</td>\n",
              "      <td>...</td>\n",
              "      <td>...</td>\n",
              "      <td>...</td>\n",
              "      <td>...</td>\n",
              "      <td>...</td>\n",
              "      <td>...</td>\n",
              "      <td>...</td>\n",
              "      <td>...</td>\n",
              "      <td>...</td>\n",
              "      <td>...</td>\n",
              "      <td>...</td>\n",
              "      <td>...</td>\n",
              "      <td>...</td>\n",
              "      <td>...</td>\n",
              "      <td>...</td>\n",
              "    </tr>\n",
              "    <tr>\n",
              "      <th>253675</th>\n",
              "      <td>253675</td>\n",
              "      <td>0.0</td>\n",
              "      <td>1.0</td>\n",
              "      <td>1.0</td>\n",
              "      <td>1.0</td>\n",
              "      <td>45.0</td>\n",
              "      <td>0.0</td>\n",
              "      <td>0.0</td>\n",
              "      <td>0.0</td>\n",
              "      <td>0.0</td>\n",
              "      <td>...</td>\n",
              "      <td>1.0</td>\n",
              "      <td>0.0</td>\n",
              "      <td>3.0</td>\n",
              "      <td>0.0</td>\n",
              "      <td>5.0</td>\n",
              "      <td>0.0</td>\n",
              "      <td>1.0</td>\n",
              "      <td>42.0</td>\n",
              "      <td>6.0</td>\n",
              "      <td>7.0</td>\n",
              "    </tr>\n",
              "    <tr>\n",
              "      <th>253676</th>\n",
              "      <td>253676</td>\n",
              "      <td>2.0</td>\n",
              "      <td>1.0</td>\n",
              "      <td>1.0</td>\n",
              "      <td>1.0</td>\n",
              "      <td>18.0</td>\n",
              "      <td>0.0</td>\n",
              "      <td>0.0</td>\n",
              "      <td>0.0</td>\n",
              "      <td>0.0</td>\n",
              "      <td>...</td>\n",
              "      <td>1.0</td>\n",
              "      <td>0.0</td>\n",
              "      <td>4.0</td>\n",
              "      <td>0.0</td>\n",
              "      <td>0.0</td>\n",
              "      <td>1.0</td>\n",
              "      <td>0.0</td>\n",
              "      <td>72.0</td>\n",
              "      <td>2.0</td>\n",
              "      <td>4.0</td>\n",
              "    </tr>\n",
              "    <tr>\n",
              "      <th>253677</th>\n",
              "      <td>253677</td>\n",
              "      <td>0.0</td>\n",
              "      <td>0.0</td>\n",
              "      <td>0.0</td>\n",
              "      <td>1.0</td>\n",
              "      <td>28.0</td>\n",
              "      <td>0.0</td>\n",
              "      <td>0.0</td>\n",
              "      <td>0.0</td>\n",
              "      <td>1.0</td>\n",
              "      <td>...</td>\n",
              "      <td>1.0</td>\n",
              "      <td>0.0</td>\n",
              "      <td>1.0</td>\n",
              "      <td>0.0</td>\n",
              "      <td>0.0</td>\n",
              "      <td>0.0</td>\n",
              "      <td>0.0</td>\n",
              "      <td>27.0</td>\n",
              "      <td>5.0</td>\n",
              "      <td>2.0</td>\n",
              "    </tr>\n",
              "    <tr>\n",
              "      <th>253678</th>\n",
              "      <td>253678</td>\n",
              "      <td>0.0</td>\n",
              "      <td>1.0</td>\n",
              "      <td>0.0</td>\n",
              "      <td>1.0</td>\n",
              "      <td>23.0</td>\n",
              "      <td>0.0</td>\n",
              "      <td>0.0</td>\n",
              "      <td>0.0</td>\n",
              "      <td>0.0</td>\n",
              "      <td>...</td>\n",
              "      <td>1.0</td>\n",
              "      <td>0.0</td>\n",
              "      <td>3.0</td>\n",
              "      <td>0.0</td>\n",
              "      <td>0.0</td>\n",
              "      <td>0.0</td>\n",
              "      <td>1.0</td>\n",
              "      <td>52.0</td>\n",
              "      <td>5.0</td>\n",
              "      <td>1.0</td>\n",
              "    </tr>\n",
              "    <tr>\n",
              "      <th>253679</th>\n",
              "      <td>253679</td>\n",
              "      <td>2.0</td>\n",
              "      <td>1.0</td>\n",
              "      <td>1.0</td>\n",
              "      <td>1.0</td>\n",
              "      <td>25.0</td>\n",
              "      <td>0.0</td>\n",
              "      <td>0.0</td>\n",
              "      <td>1.0</td>\n",
              "      <td>1.0</td>\n",
              "      <td>...</td>\n",
              "      <td>1.0</td>\n",
              "      <td>0.0</td>\n",
              "      <td>2.0</td>\n",
              "      <td>0.0</td>\n",
              "      <td>0.0</td>\n",
              "      <td>0.0</td>\n",
              "      <td>0.0</td>\n",
              "      <td>62.0</td>\n",
              "      <td>6.0</td>\n",
              "      <td>2.0</td>\n",
              "    </tr>\n",
              "  </tbody>\n",
              "</table>\n",
              "<p>253680 rows × 23 columns</p>\n",
              "</div>\n",
              "    <div class=\"colab-df-buttons\">\n",
              "\n",
              "  <div class=\"colab-df-container\">\n",
              "    <button class=\"colab-df-convert\" onclick=\"convertToInteractive('df-ab008d23-a9ba-4517-aa27-41149aee71af')\"\n",
              "            title=\"Convert this dataframe to an interactive table.\"\n",
              "            style=\"display:none;\">\n",
              "\n",
              "  <svg xmlns=\"http://www.w3.org/2000/svg\" height=\"24px\" viewBox=\"0 -960 960 960\">\n",
              "    <path d=\"M120-120v-720h720v720H120Zm60-500h600v-160H180v160Zm220 220h160v-160H400v160Zm0 220h160v-160H400v160ZM180-400h160v-160H180v160Zm440 0h160v-160H620v160ZM180-180h160v-160H180v160Zm440 0h160v-160H620v160Z\"/>\n",
              "  </svg>\n",
              "    </button>\n",
              "\n",
              "  <style>\n",
              "    .colab-df-container {\n",
              "      display:flex;\n",
              "      gap: 12px;\n",
              "    }\n",
              "\n",
              "    .colab-df-convert {\n",
              "      background-color: #E8F0FE;\n",
              "      border: none;\n",
              "      border-radius: 50%;\n",
              "      cursor: pointer;\n",
              "      display: none;\n",
              "      fill: #1967D2;\n",
              "      height: 32px;\n",
              "      padding: 0 0 0 0;\n",
              "      width: 32px;\n",
              "    }\n",
              "\n",
              "    .colab-df-convert:hover {\n",
              "      background-color: #E2EBFA;\n",
              "      box-shadow: 0px 1px 2px rgba(60, 64, 67, 0.3), 0px 1px 3px 1px rgba(60, 64, 67, 0.15);\n",
              "      fill: #174EA6;\n",
              "    }\n",
              "\n",
              "    .colab-df-buttons div {\n",
              "      margin-bottom: 4px;\n",
              "    }\n",
              "\n",
              "    [theme=dark] .colab-df-convert {\n",
              "      background-color: #3B4455;\n",
              "      fill: #D2E3FC;\n",
              "    }\n",
              "\n",
              "    [theme=dark] .colab-df-convert:hover {\n",
              "      background-color: #434B5C;\n",
              "      box-shadow: 0px 1px 3px 1px rgba(0, 0, 0, 0.15);\n",
              "      filter: drop-shadow(0px 1px 2px rgba(0, 0, 0, 0.3));\n",
              "      fill: #FFFFFF;\n",
              "    }\n",
              "  </style>\n",
              "\n",
              "    <script>\n",
              "      const buttonEl =\n",
              "        document.querySelector('#df-ab008d23-a9ba-4517-aa27-41149aee71af button.colab-df-convert');\n",
              "      buttonEl.style.display =\n",
              "        google.colab.kernel.accessAllowed ? 'block' : 'none';\n",
              "\n",
              "      async function convertToInteractive(key) {\n",
              "        const element = document.querySelector('#df-ab008d23-a9ba-4517-aa27-41149aee71af');\n",
              "        const dataTable =\n",
              "          await google.colab.kernel.invokeFunction('convertToInteractive',\n",
              "                                                    [key], {});\n",
              "        if (!dataTable) return;\n",
              "\n",
              "        const docLinkHtml = 'Like what you see? Visit the ' +\n",
              "          '<a target=\"_blank\" href=https://colab.research.google.com/notebooks/data_table.ipynb>data table notebook</a>'\n",
              "          + ' to learn more about interactive tables.';\n",
              "        element.innerHTML = '';\n",
              "        dataTable['output_type'] = 'display_data';\n",
              "        await google.colab.output.renderOutput(dataTable, element);\n",
              "        const docLink = document.createElement('div');\n",
              "        docLink.innerHTML = docLinkHtml;\n",
              "        element.appendChild(docLink);\n",
              "      }\n",
              "    </script>\n",
              "  </div>\n",
              "\n",
              "\n",
              "<div id=\"df-c8fe42aa-196e-4725-824f-9fcd68a0abbf\">\n",
              "  <button class=\"colab-df-quickchart\" onclick=\"quickchart('df-c8fe42aa-196e-4725-824f-9fcd68a0abbf')\"\n",
              "            title=\"Suggest charts.\"\n",
              "            style=\"display:none;\">\n",
              "\n",
              "<svg xmlns=\"http://www.w3.org/2000/svg\" height=\"24px\"viewBox=\"0 0 24 24\"\n",
              "     width=\"24px\">\n",
              "    <g>\n",
              "        <path d=\"M19 3H5c-1.1 0-2 .9-2 2v14c0 1.1.9 2 2 2h14c1.1 0 2-.9 2-2V5c0-1.1-.9-2-2-2zM9 17H7v-7h2v7zm4 0h-2V7h2v10zm4 0h-2v-4h2v4z\"/>\n",
              "    </g>\n",
              "</svg>\n",
              "  </button>\n",
              "\n",
              "<style>\n",
              "  .colab-df-quickchart {\n",
              "      --bg-color: #E8F0FE;\n",
              "      --fill-color: #1967D2;\n",
              "      --hover-bg-color: #E2EBFA;\n",
              "      --hover-fill-color: #174EA6;\n",
              "      --disabled-fill-color: #AAA;\n",
              "      --disabled-bg-color: #DDD;\n",
              "  }\n",
              "\n",
              "  [theme=dark] .colab-df-quickchart {\n",
              "      --bg-color: #3B4455;\n",
              "      --fill-color: #D2E3FC;\n",
              "      --hover-bg-color: #434B5C;\n",
              "      --hover-fill-color: #FFFFFF;\n",
              "      --disabled-bg-color: #3B4455;\n",
              "      --disabled-fill-color: #666;\n",
              "  }\n",
              "\n",
              "  .colab-df-quickchart {\n",
              "    background-color: var(--bg-color);\n",
              "    border: none;\n",
              "    border-radius: 50%;\n",
              "    cursor: pointer;\n",
              "    display: none;\n",
              "    fill: var(--fill-color);\n",
              "    height: 32px;\n",
              "    padding: 0;\n",
              "    width: 32px;\n",
              "  }\n",
              "\n",
              "  .colab-df-quickchart:hover {\n",
              "    background-color: var(--hover-bg-color);\n",
              "    box-shadow: 0 1px 2px rgba(60, 64, 67, 0.3), 0 1px 3px 1px rgba(60, 64, 67, 0.15);\n",
              "    fill: var(--button-hover-fill-color);\n",
              "  }\n",
              "\n",
              "  .colab-df-quickchart-complete:disabled,\n",
              "  .colab-df-quickchart-complete:disabled:hover {\n",
              "    background-color: var(--disabled-bg-color);\n",
              "    fill: var(--disabled-fill-color);\n",
              "    box-shadow: none;\n",
              "  }\n",
              "\n",
              "  .colab-df-spinner {\n",
              "    border: 2px solid var(--fill-color);\n",
              "    border-color: transparent;\n",
              "    border-bottom-color: var(--fill-color);\n",
              "    animation:\n",
              "      spin 1s steps(1) infinite;\n",
              "  }\n",
              "\n",
              "  @keyframes spin {\n",
              "    0% {\n",
              "      border-color: transparent;\n",
              "      border-bottom-color: var(--fill-color);\n",
              "      border-left-color: var(--fill-color);\n",
              "    }\n",
              "    20% {\n",
              "      border-color: transparent;\n",
              "      border-left-color: var(--fill-color);\n",
              "      border-top-color: var(--fill-color);\n",
              "    }\n",
              "    30% {\n",
              "      border-color: transparent;\n",
              "      border-left-color: var(--fill-color);\n",
              "      border-top-color: var(--fill-color);\n",
              "      border-right-color: var(--fill-color);\n",
              "    }\n",
              "    40% {\n",
              "      border-color: transparent;\n",
              "      border-right-color: var(--fill-color);\n",
              "      border-top-color: var(--fill-color);\n",
              "    }\n",
              "    60% {\n",
              "      border-color: transparent;\n",
              "      border-right-color: var(--fill-color);\n",
              "    }\n",
              "    80% {\n",
              "      border-color: transparent;\n",
              "      border-right-color: var(--fill-color);\n",
              "      border-bottom-color: var(--fill-color);\n",
              "    }\n",
              "    90% {\n",
              "      border-color: transparent;\n",
              "      border-bottom-color: var(--fill-color);\n",
              "    }\n",
              "  }\n",
              "</style>\n",
              "\n",
              "  <script>\n",
              "    async function quickchart(key) {\n",
              "      const quickchartButtonEl =\n",
              "        document.querySelector('#' + key + ' button');\n",
              "      quickchartButtonEl.disabled = true;  // To prevent multiple clicks.\n",
              "      quickchartButtonEl.classList.add('colab-df-spinner');\n",
              "      try {\n",
              "        const charts = await google.colab.kernel.invokeFunction(\n",
              "            'suggestCharts', [key], {});\n",
              "      } catch (error) {\n",
              "        console.error('Error during call to suggestCharts:', error);\n",
              "      }\n",
              "      quickchartButtonEl.classList.remove('colab-df-spinner');\n",
              "      quickchartButtonEl.classList.add('colab-df-quickchart-complete');\n",
              "    }\n",
              "    (() => {\n",
              "      let quickchartButtonEl =\n",
              "        document.querySelector('#df-c8fe42aa-196e-4725-824f-9fcd68a0abbf button');\n",
              "      quickchartButtonEl.style.display =\n",
              "        google.colab.kernel.accessAllowed ? 'block' : 'none';\n",
              "    })();\n",
              "  </script>\n",
              "</div>\n",
              "    </div>\n",
              "  </div>\n"
            ]
          },
          "metadata": {},
          "execution_count": 36
        }
      ],
      "source": [
        "df"
      ]
    },
    {
      "cell_type": "markdown",
      "metadata": {
        "id": "u03AHON_wPXt"
      },
      "source": [
        "To get summary statistics about all these, use the .describe() method of the dataframe:"
      ]
    },
    {
      "cell_type": "code",
      "execution_count": null,
      "metadata": {
        "colab": {
          "base_uri": "https://localhost:8080/",
          "height": 350
        },
        "id": "przwihQuwPXv",
        "outputId": "8f0a008c-9000-4827-e70d-ebab2217dfe2"
      },
      "outputs": [
        {
          "output_type": "execute_result",
          "data": {
            "text/plain": [
              "          Unnamed: 0   Diabetes_012         HighBP       HighChol  \\\n",
              "count  253680.000000  253680.000000  253680.000000  253680.000000   \n",
              "mean   126839.500000       0.296921       0.429001       0.424121   \n",
              "std     73231.252481       0.698160       0.494934       0.494210   \n",
              "min         0.000000       0.000000       0.000000       0.000000   \n",
              "25%     63419.750000       0.000000       0.000000       0.000000   \n",
              "50%    126839.500000       0.000000       0.000000       0.000000   \n",
              "75%    190259.250000       0.000000       1.000000       1.000000   \n",
              "max    253679.000000       2.000000       1.000000       1.000000   \n",
              "\n",
              "           CholCheck            BMI         Smoker         Stroke  \\\n",
              "count  253680.000000  253680.000000  253680.000000  253680.000000   \n",
              "mean        0.962670      28.382364       0.443169       0.040571   \n",
              "std         0.189571       6.608694       0.496761       0.197294   \n",
              "min         0.000000      12.000000       0.000000       0.000000   \n",
              "25%         1.000000      24.000000       0.000000       0.000000   \n",
              "50%         1.000000      27.000000       0.000000       0.000000   \n",
              "75%         1.000000      31.000000       1.000000       0.000000   \n",
              "max         1.000000      98.000000       1.000000       1.000000   \n",
              "\n",
              "       HeartDiseaseorAttack   PhysActivity  ...  AnyHealthcare    NoDocbcCost  \\\n",
              "count         253680.000000  253680.000000  ...  253680.000000  253680.000000   \n",
              "mean               0.094186       0.756544  ...       0.951053       0.084177   \n",
              "std                0.292087       0.429169  ...       0.215759       0.277654   \n",
              "min                0.000000       0.000000  ...       0.000000       0.000000   \n",
              "25%                0.000000       1.000000  ...       1.000000       0.000000   \n",
              "50%                0.000000       1.000000  ...       1.000000       0.000000   \n",
              "75%                0.000000       1.000000  ...       1.000000       0.000000   \n",
              "max                1.000000       1.000000  ...       1.000000       1.000000   \n",
              "\n",
              "             GenHlth       MentHlth       PhysHlth       DiffWalk  \\\n",
              "count  253680.000000  253680.000000  253680.000000  253680.000000   \n",
              "mean        2.511392       3.184772       4.242081       0.168224   \n",
              "std         1.068477       7.412847       8.717951       0.374066   \n",
              "min         1.000000       0.000000       0.000000       0.000000   \n",
              "25%         2.000000       0.000000       0.000000       0.000000   \n",
              "50%         2.000000       0.000000       0.000000       0.000000   \n",
              "75%         3.000000       2.000000       3.000000       0.000000   \n",
              "max         5.000000      30.000000      30.000000       1.000000   \n",
              "\n",
              "                 Sex            Age      Education         Income  \n",
              "count  253680.000000  253680.000000  253680.000000  253680.000000  \n",
              "mean        0.440342      57.138127       5.050434       6.053875  \n",
              "std         0.496429      15.323466       0.985774       2.071148  \n",
              "min         0.000000      21.000000       1.000000       1.000000  \n",
              "25%         0.000000      47.000000       4.000000       5.000000  \n",
              "50%         0.000000      57.000000       5.000000       7.000000  \n",
              "75%         1.000000      67.000000       6.000000       8.000000  \n",
              "max         1.000000      82.000000       6.000000       8.000000  \n",
              "\n",
              "[8 rows x 23 columns]"
            ],
            "text/html": [
              "\n",
              "  <div id=\"df-0491e2f6-ff50-4322-9f39-397aafb4d3dc\" class=\"colab-df-container\">\n",
              "    <div>\n",
              "<style scoped>\n",
              "    .dataframe tbody tr th:only-of-type {\n",
              "        vertical-align: middle;\n",
              "    }\n",
              "\n",
              "    .dataframe tbody tr th {\n",
              "        vertical-align: top;\n",
              "    }\n",
              "\n",
              "    .dataframe thead th {\n",
              "        text-align: right;\n",
              "    }\n",
              "</style>\n",
              "<table border=\"1\" class=\"dataframe\">\n",
              "  <thead>\n",
              "    <tr style=\"text-align: right;\">\n",
              "      <th></th>\n",
              "      <th>Unnamed: 0</th>\n",
              "      <th>Diabetes_012</th>\n",
              "      <th>HighBP</th>\n",
              "      <th>HighChol</th>\n",
              "      <th>CholCheck</th>\n",
              "      <th>BMI</th>\n",
              "      <th>Smoker</th>\n",
              "      <th>Stroke</th>\n",
              "      <th>HeartDiseaseorAttack</th>\n",
              "      <th>PhysActivity</th>\n",
              "      <th>...</th>\n",
              "      <th>AnyHealthcare</th>\n",
              "      <th>NoDocbcCost</th>\n",
              "      <th>GenHlth</th>\n",
              "      <th>MentHlth</th>\n",
              "      <th>PhysHlth</th>\n",
              "      <th>DiffWalk</th>\n",
              "      <th>Sex</th>\n",
              "      <th>Age</th>\n",
              "      <th>Education</th>\n",
              "      <th>Income</th>\n",
              "    </tr>\n",
              "  </thead>\n",
              "  <tbody>\n",
              "    <tr>\n",
              "      <th>count</th>\n",
              "      <td>253680.000000</td>\n",
              "      <td>253680.000000</td>\n",
              "      <td>253680.000000</td>\n",
              "      <td>253680.000000</td>\n",
              "      <td>253680.000000</td>\n",
              "      <td>253680.000000</td>\n",
              "      <td>253680.000000</td>\n",
              "      <td>253680.000000</td>\n",
              "      <td>253680.000000</td>\n",
              "      <td>253680.000000</td>\n",
              "      <td>...</td>\n",
              "      <td>253680.000000</td>\n",
              "      <td>253680.000000</td>\n",
              "      <td>253680.000000</td>\n",
              "      <td>253680.000000</td>\n",
              "      <td>253680.000000</td>\n",
              "      <td>253680.000000</td>\n",
              "      <td>253680.000000</td>\n",
              "      <td>253680.000000</td>\n",
              "      <td>253680.000000</td>\n",
              "      <td>253680.000000</td>\n",
              "    </tr>\n",
              "    <tr>\n",
              "      <th>mean</th>\n",
              "      <td>126839.500000</td>\n",
              "      <td>0.296921</td>\n",
              "      <td>0.429001</td>\n",
              "      <td>0.424121</td>\n",
              "      <td>0.962670</td>\n",
              "      <td>28.382364</td>\n",
              "      <td>0.443169</td>\n",
              "      <td>0.040571</td>\n",
              "      <td>0.094186</td>\n",
              "      <td>0.756544</td>\n",
              "      <td>...</td>\n",
              "      <td>0.951053</td>\n",
              "      <td>0.084177</td>\n",
              "      <td>2.511392</td>\n",
              "      <td>3.184772</td>\n",
              "      <td>4.242081</td>\n",
              "      <td>0.168224</td>\n",
              "      <td>0.440342</td>\n",
              "      <td>57.138127</td>\n",
              "      <td>5.050434</td>\n",
              "      <td>6.053875</td>\n",
              "    </tr>\n",
              "    <tr>\n",
              "      <th>std</th>\n",
              "      <td>73231.252481</td>\n",
              "      <td>0.698160</td>\n",
              "      <td>0.494934</td>\n",
              "      <td>0.494210</td>\n",
              "      <td>0.189571</td>\n",
              "      <td>6.608694</td>\n",
              "      <td>0.496761</td>\n",
              "      <td>0.197294</td>\n",
              "      <td>0.292087</td>\n",
              "      <td>0.429169</td>\n",
              "      <td>...</td>\n",
              "      <td>0.215759</td>\n",
              "      <td>0.277654</td>\n",
              "      <td>1.068477</td>\n",
              "      <td>7.412847</td>\n",
              "      <td>8.717951</td>\n",
              "      <td>0.374066</td>\n",
              "      <td>0.496429</td>\n",
              "      <td>15.323466</td>\n",
              "      <td>0.985774</td>\n",
              "      <td>2.071148</td>\n",
              "    </tr>\n",
              "    <tr>\n",
              "      <th>min</th>\n",
              "      <td>0.000000</td>\n",
              "      <td>0.000000</td>\n",
              "      <td>0.000000</td>\n",
              "      <td>0.000000</td>\n",
              "      <td>0.000000</td>\n",
              "      <td>12.000000</td>\n",
              "      <td>0.000000</td>\n",
              "      <td>0.000000</td>\n",
              "      <td>0.000000</td>\n",
              "      <td>0.000000</td>\n",
              "      <td>...</td>\n",
              "      <td>0.000000</td>\n",
              "      <td>0.000000</td>\n",
              "      <td>1.000000</td>\n",
              "      <td>0.000000</td>\n",
              "      <td>0.000000</td>\n",
              "      <td>0.000000</td>\n",
              "      <td>0.000000</td>\n",
              "      <td>21.000000</td>\n",
              "      <td>1.000000</td>\n",
              "      <td>1.000000</td>\n",
              "    </tr>\n",
              "    <tr>\n",
              "      <th>25%</th>\n",
              "      <td>63419.750000</td>\n",
              "      <td>0.000000</td>\n",
              "      <td>0.000000</td>\n",
              "      <td>0.000000</td>\n",
              "      <td>1.000000</td>\n",
              "      <td>24.000000</td>\n",
              "      <td>0.000000</td>\n",
              "      <td>0.000000</td>\n",
              "      <td>0.000000</td>\n",
              "      <td>1.000000</td>\n",
              "      <td>...</td>\n",
              "      <td>1.000000</td>\n",
              "      <td>0.000000</td>\n",
              "      <td>2.000000</td>\n",
              "      <td>0.000000</td>\n",
              "      <td>0.000000</td>\n",
              "      <td>0.000000</td>\n",
              "      <td>0.000000</td>\n",
              "      <td>47.000000</td>\n",
              "      <td>4.000000</td>\n",
              "      <td>5.000000</td>\n",
              "    </tr>\n",
              "    <tr>\n",
              "      <th>50%</th>\n",
              "      <td>126839.500000</td>\n",
              "      <td>0.000000</td>\n",
              "      <td>0.000000</td>\n",
              "      <td>0.000000</td>\n",
              "      <td>1.000000</td>\n",
              "      <td>27.000000</td>\n",
              "      <td>0.000000</td>\n",
              "      <td>0.000000</td>\n",
              "      <td>0.000000</td>\n",
              "      <td>1.000000</td>\n",
              "      <td>...</td>\n",
              "      <td>1.000000</td>\n",
              "      <td>0.000000</td>\n",
              "      <td>2.000000</td>\n",
              "      <td>0.000000</td>\n",
              "      <td>0.000000</td>\n",
              "      <td>0.000000</td>\n",
              "      <td>0.000000</td>\n",
              "      <td>57.000000</td>\n",
              "      <td>5.000000</td>\n",
              "      <td>7.000000</td>\n",
              "    </tr>\n",
              "    <tr>\n",
              "      <th>75%</th>\n",
              "      <td>190259.250000</td>\n",
              "      <td>0.000000</td>\n",
              "      <td>1.000000</td>\n",
              "      <td>1.000000</td>\n",
              "      <td>1.000000</td>\n",
              "      <td>31.000000</td>\n",
              "      <td>1.000000</td>\n",
              "      <td>0.000000</td>\n",
              "      <td>0.000000</td>\n",
              "      <td>1.000000</td>\n",
              "      <td>...</td>\n",
              "      <td>1.000000</td>\n",
              "      <td>0.000000</td>\n",
              "      <td>3.000000</td>\n",
              "      <td>2.000000</td>\n",
              "      <td>3.000000</td>\n",
              "      <td>0.000000</td>\n",
              "      <td>1.000000</td>\n",
              "      <td>67.000000</td>\n",
              "      <td>6.000000</td>\n",
              "      <td>8.000000</td>\n",
              "    </tr>\n",
              "    <tr>\n",
              "      <th>max</th>\n",
              "      <td>253679.000000</td>\n",
              "      <td>2.000000</td>\n",
              "      <td>1.000000</td>\n",
              "      <td>1.000000</td>\n",
              "      <td>1.000000</td>\n",
              "      <td>98.000000</td>\n",
              "      <td>1.000000</td>\n",
              "      <td>1.000000</td>\n",
              "      <td>1.000000</td>\n",
              "      <td>1.000000</td>\n",
              "      <td>...</td>\n",
              "      <td>1.000000</td>\n",
              "      <td>1.000000</td>\n",
              "      <td>5.000000</td>\n",
              "      <td>30.000000</td>\n",
              "      <td>30.000000</td>\n",
              "      <td>1.000000</td>\n",
              "      <td>1.000000</td>\n",
              "      <td>82.000000</td>\n",
              "      <td>6.000000</td>\n",
              "      <td>8.000000</td>\n",
              "    </tr>\n",
              "  </tbody>\n",
              "</table>\n",
              "<p>8 rows × 23 columns</p>\n",
              "</div>\n",
              "    <div class=\"colab-df-buttons\">\n",
              "\n",
              "  <div class=\"colab-df-container\">\n",
              "    <button class=\"colab-df-convert\" onclick=\"convertToInteractive('df-0491e2f6-ff50-4322-9f39-397aafb4d3dc')\"\n",
              "            title=\"Convert this dataframe to an interactive table.\"\n",
              "            style=\"display:none;\">\n",
              "\n",
              "  <svg xmlns=\"http://www.w3.org/2000/svg\" height=\"24px\" viewBox=\"0 -960 960 960\">\n",
              "    <path d=\"M120-120v-720h720v720H120Zm60-500h600v-160H180v160Zm220 220h160v-160H400v160Zm0 220h160v-160H400v160ZM180-400h160v-160H180v160Zm440 0h160v-160H620v160ZM180-180h160v-160H180v160Zm440 0h160v-160H620v160Z\"/>\n",
              "  </svg>\n",
              "    </button>\n",
              "\n",
              "  <style>\n",
              "    .colab-df-container {\n",
              "      display:flex;\n",
              "      gap: 12px;\n",
              "    }\n",
              "\n",
              "    .colab-df-convert {\n",
              "      background-color: #E8F0FE;\n",
              "      border: none;\n",
              "      border-radius: 50%;\n",
              "      cursor: pointer;\n",
              "      display: none;\n",
              "      fill: #1967D2;\n",
              "      height: 32px;\n",
              "      padding: 0 0 0 0;\n",
              "      width: 32px;\n",
              "    }\n",
              "\n",
              "    .colab-df-convert:hover {\n",
              "      background-color: #E2EBFA;\n",
              "      box-shadow: 0px 1px 2px rgba(60, 64, 67, 0.3), 0px 1px 3px 1px rgba(60, 64, 67, 0.15);\n",
              "      fill: #174EA6;\n",
              "    }\n",
              "\n",
              "    .colab-df-buttons div {\n",
              "      margin-bottom: 4px;\n",
              "    }\n",
              "\n",
              "    [theme=dark] .colab-df-convert {\n",
              "      background-color: #3B4455;\n",
              "      fill: #D2E3FC;\n",
              "    }\n",
              "\n",
              "    [theme=dark] .colab-df-convert:hover {\n",
              "      background-color: #434B5C;\n",
              "      box-shadow: 0px 1px 3px 1px rgba(0, 0, 0, 0.15);\n",
              "      filter: drop-shadow(0px 1px 2px rgba(0, 0, 0, 0.3));\n",
              "      fill: #FFFFFF;\n",
              "    }\n",
              "  </style>\n",
              "\n",
              "    <script>\n",
              "      const buttonEl =\n",
              "        document.querySelector('#df-0491e2f6-ff50-4322-9f39-397aafb4d3dc button.colab-df-convert');\n",
              "      buttonEl.style.display =\n",
              "        google.colab.kernel.accessAllowed ? 'block' : 'none';\n",
              "\n",
              "      async function convertToInteractive(key) {\n",
              "        const element = document.querySelector('#df-0491e2f6-ff50-4322-9f39-397aafb4d3dc');\n",
              "        const dataTable =\n",
              "          await google.colab.kernel.invokeFunction('convertToInteractive',\n",
              "                                                    [key], {});\n",
              "        if (!dataTable) return;\n",
              "\n",
              "        const docLinkHtml = 'Like what you see? Visit the ' +\n",
              "          '<a target=\"_blank\" href=https://colab.research.google.com/notebooks/data_table.ipynb>data table notebook</a>'\n",
              "          + ' to learn more about interactive tables.';\n",
              "        element.innerHTML = '';\n",
              "        dataTable['output_type'] = 'display_data';\n",
              "        await google.colab.output.renderOutput(dataTable, element);\n",
              "        const docLink = document.createElement('div');\n",
              "        docLink.innerHTML = docLinkHtml;\n",
              "        element.appendChild(docLink);\n",
              "      }\n",
              "    </script>\n",
              "  </div>\n",
              "\n",
              "\n",
              "<div id=\"df-5ef0f6b2-c50f-4704-8ccc-cf088661689b\">\n",
              "  <button class=\"colab-df-quickchart\" onclick=\"quickchart('df-5ef0f6b2-c50f-4704-8ccc-cf088661689b')\"\n",
              "            title=\"Suggest charts.\"\n",
              "            style=\"display:none;\">\n",
              "\n",
              "<svg xmlns=\"http://www.w3.org/2000/svg\" height=\"24px\"viewBox=\"0 0 24 24\"\n",
              "     width=\"24px\">\n",
              "    <g>\n",
              "        <path d=\"M19 3H5c-1.1 0-2 .9-2 2v14c0 1.1.9 2 2 2h14c1.1 0 2-.9 2-2V5c0-1.1-.9-2-2-2zM9 17H7v-7h2v7zm4 0h-2V7h2v10zm4 0h-2v-4h2v4z\"/>\n",
              "    </g>\n",
              "</svg>\n",
              "  </button>\n",
              "\n",
              "<style>\n",
              "  .colab-df-quickchart {\n",
              "      --bg-color: #E8F0FE;\n",
              "      --fill-color: #1967D2;\n",
              "      --hover-bg-color: #E2EBFA;\n",
              "      --hover-fill-color: #174EA6;\n",
              "      --disabled-fill-color: #AAA;\n",
              "      --disabled-bg-color: #DDD;\n",
              "  }\n",
              "\n",
              "  [theme=dark] .colab-df-quickchart {\n",
              "      --bg-color: #3B4455;\n",
              "      --fill-color: #D2E3FC;\n",
              "      --hover-bg-color: #434B5C;\n",
              "      --hover-fill-color: #FFFFFF;\n",
              "      --disabled-bg-color: #3B4455;\n",
              "      --disabled-fill-color: #666;\n",
              "  }\n",
              "\n",
              "  .colab-df-quickchart {\n",
              "    background-color: var(--bg-color);\n",
              "    border: none;\n",
              "    border-radius: 50%;\n",
              "    cursor: pointer;\n",
              "    display: none;\n",
              "    fill: var(--fill-color);\n",
              "    height: 32px;\n",
              "    padding: 0;\n",
              "    width: 32px;\n",
              "  }\n",
              "\n",
              "  .colab-df-quickchart:hover {\n",
              "    background-color: var(--hover-bg-color);\n",
              "    box-shadow: 0 1px 2px rgba(60, 64, 67, 0.3), 0 1px 3px 1px rgba(60, 64, 67, 0.15);\n",
              "    fill: var(--button-hover-fill-color);\n",
              "  }\n",
              "\n",
              "  .colab-df-quickchart-complete:disabled,\n",
              "  .colab-df-quickchart-complete:disabled:hover {\n",
              "    background-color: var(--disabled-bg-color);\n",
              "    fill: var(--disabled-fill-color);\n",
              "    box-shadow: none;\n",
              "  }\n",
              "\n",
              "  .colab-df-spinner {\n",
              "    border: 2px solid var(--fill-color);\n",
              "    border-color: transparent;\n",
              "    border-bottom-color: var(--fill-color);\n",
              "    animation:\n",
              "      spin 1s steps(1) infinite;\n",
              "  }\n",
              "\n",
              "  @keyframes spin {\n",
              "    0% {\n",
              "      border-color: transparent;\n",
              "      border-bottom-color: var(--fill-color);\n",
              "      border-left-color: var(--fill-color);\n",
              "    }\n",
              "    20% {\n",
              "      border-color: transparent;\n",
              "      border-left-color: var(--fill-color);\n",
              "      border-top-color: var(--fill-color);\n",
              "    }\n",
              "    30% {\n",
              "      border-color: transparent;\n",
              "      border-left-color: var(--fill-color);\n",
              "      border-top-color: var(--fill-color);\n",
              "      border-right-color: var(--fill-color);\n",
              "    }\n",
              "    40% {\n",
              "      border-color: transparent;\n",
              "      border-right-color: var(--fill-color);\n",
              "      border-top-color: var(--fill-color);\n",
              "    }\n",
              "    60% {\n",
              "      border-color: transparent;\n",
              "      border-right-color: var(--fill-color);\n",
              "    }\n",
              "    80% {\n",
              "      border-color: transparent;\n",
              "      border-right-color: var(--fill-color);\n",
              "      border-bottom-color: var(--fill-color);\n",
              "    }\n",
              "    90% {\n",
              "      border-color: transparent;\n",
              "      border-bottom-color: var(--fill-color);\n",
              "    }\n",
              "  }\n",
              "</style>\n",
              "\n",
              "  <script>\n",
              "    async function quickchart(key) {\n",
              "      const quickchartButtonEl =\n",
              "        document.querySelector('#' + key + ' button');\n",
              "      quickchartButtonEl.disabled = true;  // To prevent multiple clicks.\n",
              "      quickchartButtonEl.classList.add('colab-df-spinner');\n",
              "      try {\n",
              "        const charts = await google.colab.kernel.invokeFunction(\n",
              "            'suggestCharts', [key], {});\n",
              "      } catch (error) {\n",
              "        console.error('Error during call to suggestCharts:', error);\n",
              "      }\n",
              "      quickchartButtonEl.classList.remove('colab-df-spinner');\n",
              "      quickchartButtonEl.classList.add('colab-df-quickchart-complete');\n",
              "    }\n",
              "    (() => {\n",
              "      let quickchartButtonEl =\n",
              "        document.querySelector('#df-5ef0f6b2-c50f-4704-8ccc-cf088661689b button');\n",
              "      quickchartButtonEl.style.display =\n",
              "        google.colab.kernel.accessAllowed ? 'block' : 'none';\n",
              "    })();\n",
              "  </script>\n",
              "</div>\n",
              "    </div>\n",
              "  </div>\n"
            ]
          },
          "metadata": {},
          "execution_count": 37
        }
      ],
      "source": [
        "df.describe()"
      ]
    },
    {
      "cell_type": "markdown",
      "metadata": {
        "id": "mpTPOvq5wPXw"
      },
      "source": [
        "## Probabilities\n",
        "\n",
        "We can estimate probabilities from this sample of the population.\n",
        "\n",
        "Probabilities can be defined as the limit between the ratio of the number of positive outcomes (e.g. heads, if flipping a coin) and the number of trials:\n",
        "\n",
        "$$P(Y = y) = \\lim_{N \\rightarrow \\infty} \\frac{n_y}{N}$$\n",
        "\n",
        "If you only have a finite number of samples, we can assume that the ratio is still approximately correct for now:\n",
        "\n",
        "$$P(Y = y) \\approx \\frac{n_y}{N}$$\n",
        "\n",
        "### Using the dataset to find some probabilities\n",
        "\n",
        "What is the probability a person in this dataset is under 50?\n",
        "\n",
        "As with numpy arrays, we can do a boolean operation on all of them to get a boolean array of which items the condition is true for:"
      ]
    },
    {
      "cell_type": "code",
      "source": [
        "df['Age']<50"
      ],
      "metadata": {
        "colab": {
          "base_uri": "https://localhost:8080/"
        },
        "id": "wLCquWFO-PDe",
        "outputId": "0bc39f1d-fd67-43dc-a7d0-b3e1f84ef142"
      },
      "execution_count": null,
      "outputs": [
        {
          "output_type": "execute_result",
          "data": {
            "text/plain": [
              "0         False\n",
              "1         False\n",
              "2         False\n",
              "3         False\n",
              "4         False\n",
              "          ...  \n",
              "253675     True\n",
              "253676    False\n",
              "253677     True\n",
              "253678    False\n",
              "253679    False\n",
              "Name: Age, Length: 253680, dtype: bool"
            ]
          },
          "metadata": {},
          "execution_count": 38
        }
      ]
    },
    {
      "cell_type": "markdown",
      "source": [
        "If we ask for the mean, it will give us the proportion that are true:"
      ],
      "metadata": {
        "id": "hk8SgsC4-VFv"
      }
    },
    {
      "cell_type": "code",
      "execution_count": null,
      "metadata": {
        "colab": {
          "base_uri": "https://localhost:8080/"
        },
        "id": "slTpDgigwPXy",
        "outputId": "f64df30b-9447-49e4-ff9b-70766c9c7977"
      },
      "outputs": [
        {
          "output_type": "stream",
          "name": "stdout",
          "text": [
            "29.3% of people in the dataset are <50 years old\n"
          ]
        }
      ],
      "source": [
        "P_lt50 = np.mean(df['Age']<50) #we can use the mean as the comparison returns a boolean with False being treated as a zero, and a True as a one.\n",
        "print(\"%0.1f%% of people in the dataset are <50 years old\" % (100*P_lt50))"
      ]
    },
    {
      "cell_type": "markdown",
      "metadata": {
        "id": "LXDq50DLwPXy"
      },
      "source": [
        "What is the probability a person in the dataset is under 50 AND regularly eats vegatables? (JOINT PROBABILITY)"
      ]
    },
    {
      "cell_type": "code",
      "execution_count": null,
      "metadata": {
        "colab": {
          "base_uri": "https://localhost:8080/"
        },
        "id": "ptjNIxmdwPXy",
        "outputId": "d3b43424-e7de-4290-dbae-44f96e23a0d5"
      },
      "outputs": [
        {
          "output_type": "stream",
          "name": "stdout",
          "text": [
            "23.9% of people in the dataset are <50 years old AND eat vegetables.\n"
          ]
        }
      ],
      "source": [
        "P_lt50andVeg = np.mean((df['Age']<50) & (df['Veggies']))\n",
        "print(\"%0.1f%% of people in the dataset are <50 years old AND eat vegetables.\" % (100*P_lt50andVeg))"
      ]
    },
    {
      "cell_type": "markdown",
      "metadata": {
        "id": "KUGgou_gwPXz"
      },
      "source": [
        "### Product Rule\n",
        "\n",
        "What is the probability that they eat vegetables GIVEN they are under 50.\n",
        "\n",
        "The product rule for probability we learnt was:\n",
        "\n",
        "$$P(A,B) = P(A|B) P(B)$$\n",
        "\n",
        "If we rearrange it we can find the conditional probability (please make sure you understand this step):\n",
        "\n",
        "$$\\frac{P(Veg=true, Age<50)}{P(Age<50)} = P(Veg=true\\;|\\;Age<50)$$\n",
        "\n",
        "This is a conditional probability. Let's work it out:"
      ]
    },
    {
      "cell_type": "code",
      "execution_count": null,
      "metadata": {
        "id": "QN7jXEKCwPX0",
        "outputId": "878044c7-8a97-479f-82a1-dd9754421f69",
        "colab": {
          "base_uri": "https://localhost:8080/"
        }
      },
      "outputs": [
        {
          "output_type": "stream",
          "name": "stdout",
          "text": [
            "Probability of eating vegetables GIVEN they are under 50: 81.8%\n"
          ]
        }
      ],
      "source": [
        "#P(Veg|lt50) = P(Veg, lt50) / P(lt50)\n",
        "print(\"Probability of eating vegetables GIVEN they are under 50: %0.1f%%\" % (100*P_lt50andVeg/P_lt50))"
      ]
    },
    {
      "cell_type": "markdown",
      "metadata": {
        "id": "wDw_DOQiwPX1"
      },
      "source": [
        "We can check this a different way, by picking out those who are under 50, and the looking at the proportion of those who eat vegetables:"
      ]
    },
    {
      "cell_type": "code",
      "execution_count": null,
      "metadata": {
        "id": "-6_FwEeHwPX1",
        "outputId": "f0ead1d0-527d-4e90-a40a-f15da25779ab",
        "colab": {
          "base_uri": "https://localhost:8080/"
        }
      },
      "outputs": [
        {
          "output_type": "stream",
          "name": "stdout",
          "text": [
            "Probability of eating vegetables GIVEN they are under 50: 81.8%\n"
          ]
        }
      ],
      "source": [
        "dflt50 = df[df['Age']<50] #makes a new dataframe with just those under 50.\n",
        "\n",
        "#of this dataframe, the proportion who eat veg:\n",
        "print(\"Probability of eating vegetables GIVEN they are under 50: %0.1f%%\" % (100*np.mean(dflt50['Veggies'])))"
      ]
    },
    {
      "cell_type": "markdown",
      "metadata": {
        "id": "xN3gxHFtwPX2"
      },
      "source": [
        "### Exercise 1: Fruit, Vegetables and Indepence\n",
        "\n",
        "We can get if someone eats fruit regularly using `df['Fruits']==1` and if they eat veg regularly using `df['Veggies']==1`. Compute:\n",
        "\n",
        "- a. the probability of eating fruit regularly.\n",
        "- b. the probability of eating vegetables regularly.\n",
        "- c. the probability of eating both fruit AND vegetables regularly.\n",
        "- d. does it seem like they are independent or not?"
      ]
    },
    {
      "cell_type": "markdown",
      "metadata": {
        "id": "ZuOfwrn7wPX2"
      },
      "source": [
        "Answer here."
      ]
    },
    {
      "cell_type": "markdown",
      "metadata": {
        "id": "L9bV4kvfwPX3"
      },
      "source": [
        "### Exercise 2: Diabetes\n",
        "\n",
        "We can find the proportion of the participants that have diabetes:"
      ]
    },
    {
      "cell_type": "code",
      "execution_count": null,
      "metadata": {
        "id": "xPxsC_ZGwPX3",
        "outputId": "96970e69-1478-49b8-a782-440914296abe",
        "colab": {
          "base_uri": "https://localhost:8080/"
        }
      },
      "outputs": [
        {
          "output_type": "stream",
          "name": "stdout",
          "text": [
            "Probability of diabetes (in this cohort): 13.9%\n"
          ]
        }
      ],
      "source": [
        "Pdia = np.mean(df['Diabetes_012']==2)\n",
        "print(\"Probability of diabetes (in this cohort): %0.1f%%\" % (100*np.mean(Pdia)))"
      ]
    },
    {
      "cell_type": "markdown",
      "metadata": {
        "id": "hH71ps87wPX4"
      },
      "source": [
        "- a. What proportion of those who eat fruit AND vegetables have diabetes?"
      ]
    },
    {
      "cell_type": "code",
      "execution_count": null,
      "metadata": {
        "id": "89XWE4vfwPX4"
      },
      "outputs": [],
      "source": [
        "#Answer here."
      ]
    },
    {
      "cell_type": "markdown",
      "metadata": {
        "id": "UldPNLzuwPX5"
      },
      "source": [
        "- b. Can we say that eating fruit and vegetables can reduce the risk of diabetes?"
      ]
    },
    {
      "cell_type": "code",
      "execution_count": null,
      "metadata": {
        "id": "Jka7RzQHwPX5"
      },
      "outputs": [],
      "source": [
        "#Answer here."
      ]
    },
    {
      "cell_type": "markdown",
      "metadata": {
        "id": "p6AgzQJMwPX6"
      },
      "source": [
        "### Exercise 3: Plotting\n",
        "\n",
        "One of the columns is the BMI (body mass index) of the participants. Let's plot it in a histogram."
      ]
    },
    {
      "cell_type": "code",
      "execution_count": null,
      "metadata": {
        "colab": {
          "base_uri": "https://localhost:8080/",
          "height": 467
        },
        "id": "hiyGWsQMwPX6",
        "outputId": "d0157d6f-ca45-445f-c734-a6948968097e"
      },
      "outputs": [
        {
          "output_type": "execute_result",
          "data": {
            "text/plain": [
              "Text(0, 0.5, 'Frequency')"
            ]
          },
          "metadata": {},
          "execution_count": 46
        },
        {
          "output_type": "display_data",
          "data": {
            "text/plain": [
              "<Figure size 640x480 with 1 Axes>"
            ],
            "image/png": "[encoded data removed]"
          },
          "metadata": {}
        }
      ],
      "source": [
        "#it can be useful, for data that has both high counts and low, to switch to a log axis.\n",
        "#we can do this with the hist method by adding the log=True parameter (Try turning it on / off)\n",
        "plt.hist(df['BMI'],20)#,log=True);\n",
        "plt.grid()\n",
        "plt.xlabel('BMI')\n",
        "plt.ylabel('Frequency')"
      ]
    },
    {
      "cell_type": "markdown",
      "metadata": {
        "id": "vBIZAwvBwPX7"
      },
      "source": [
        "Exercise:\n",
        "    \n",
        "- a. The second parameter in the call to the `plt.hist` function selects the number of bins. Change it to 30 to get more detail.\n",
        "- b. Is this a normal distribution? Why/why not?"
      ]
    },
    {
      "cell_type": "code",
      "execution_count": null,
      "metadata": {
        "id": "S2FBD1XkwPX7"
      },
      "outputs": [],
      "source": [
        "#Answer here."
      ]
    },
    {
      "cell_type": "markdown",
      "metadata": {
        "id": "JKsXTVU6wPX8"
      },
      "source": [
        "Let's look at how BMI and income interact. The 'Income' column is *categorical* (with category 1 meaning less than \\\\$10k/year; and category 8 means \\\\$75k/year or more). Full details are in the ['codebook' for the dataset](https://www.cdc.gov/brfss/annual_data/2015/pdf/codebook15_llcp.pdf).\n",
        "\n",
        "So we create two numpy arrays `BMIofLowIncome` and `BMIofHighIncome` containing the BMI values for those two groups. We can then plot them as histograms too. I've plotted the density (as the two groups are different sizes, this makes it easier to compare). A density means the area under both histograms each sum to one."
      ]
    },
    {
      "cell_type": "code",
      "execution_count": null,
      "metadata": {
        "colab": {
          "base_uri": "https://localhost:8080/",
          "height": 467
        },
        "id": "fFVsVqeYwPX9",
        "outputId": "b64ab98f-e990-43d1-f084-4baca4ad3833"
      },
      "outputs": [
        {
          "output_type": "execute_result",
          "data": {
            "text/plain": [
              "Text(0.5, 0, 'BMI')"
            ]
          },
          "metadata": {},
          "execution_count": 48
        },
        {
          "output_type": "display_data",
          "data": {
            "text/plain": [
              "<Figure size 640x480 with 1 Axes>"
            ],
            "image/png": "[encoded data removed]"
          },
          "metadata": {}
        }
      ],
      "source": [
        "BMIofLowIncome = df[df['Income']==1]['BMI'].to_numpy()\n",
        "BMIofHighIncome = df[df['Income']==8]['BMI'].to_numpy()\n",
        "plt.hist(BMIofLowIncome,20,density=True,histtype='stepfilled',color='skyblue',ec=\"black\",label=\"Lowest Income\")\n",
        "plt.hist(BMIofHighIncome,20,alpha=0.4,density=True,histtype='stepfilled',color='green',ec=\"black\",label=\"Highest Income\");\n",
        "plt.legend()\n",
        "plt.ylabel('Density')\n",
        "plt.xlabel('BMI')"
      ]
    },
    {
      "cell_type": "markdown",
      "metadata": {
        "id": "RlJ5HTeswPX-"
      },
      "source": [
        "It seems that the BMI is maybe slightly higher and has greater variance for the lowest income group.\n",
        "\n",
        "### Exercise 4: Expectations and Moments\n",
        "\n",
        "We can compute the variance, using `np.var` of the two groups BMIs:"
      ]
    },
    {
      "cell_type": "code",
      "execution_count": null,
      "metadata": {
        "id": "ODO_iwDGwPX-",
        "outputId": "d52bb172-b3e8-47a4-ee9d-d4aee927021f",
        "colab": {
          "base_uri": "https://localhost:8080/"
        }
      },
      "outputs": [
        {
          "output_type": "execute_result",
          "data": {
            "text/plain": [
              "66.6496538943384"
            ]
          },
          "metadata": {},
          "execution_count": 49
        }
      ],
      "source": [
        "np.var(BMIofLowIncome)"
      ]
    },
    {
      "cell_type": "code",
      "execution_count": null,
      "metadata": {
        "id": "4-5dJ2ClwPX-",
        "outputId": "573cc4c8-15ce-4058-8451-ee95d2f84462",
        "colab": {
          "base_uri": "https://localhost:8080/"
        }
      },
      "outputs": [
        {
          "output_type": "execute_result",
          "data": {
            "text/plain": [
              "34.86457316522133"
            ]
          },
          "metadata": {},
          "execution_count": 50
        }
      ],
      "source": [
        "np.var(BMIofHighIncome)"
      ]
    },
    {
      "cell_type": "markdown",
      "metadata": {
        "id": "IpDc33o-wPX-"
      },
      "source": [
        "- a. Can you compute the variance without using the `np.var` or `np.mean` functions? Instead think about how we computed the appropriate expectations. You might find `np.sum(x)` useful (this sums over a list or array) and `len(x)` which will give you the length of an array or list, x."
      ]
    },
    {
      "cell_type": "code",
      "execution_count": null,
      "metadata": {
        "id": "Jt2HLQqXwPX-"
      },
      "outputs": [],
      "source": [
        "#Answer here."
      ]
    },
    {
      "cell_type": "markdown",
      "metadata": {
        "id": "1Fec4OS6wPX_"
      },
      "source": [
        "- b. The next moment, after the mean and variance is the skewness of a distribution. It is computed by $$\\tilde{\\mu}_3 = E\\Big[\\Big(\\frac{X-\\mu}{\\sigma}\\Big)^3 \\Big]$$\n",
        "can you compute this?"
      ]
    },
    {
      "cell_type": "code",
      "execution_count": null,
      "metadata": {
        "id": "mgJha2bewPX_"
      },
      "outputs": [],
      "source": [
        "#Answer here."
      ]
    },
    {
      "cell_type": "markdown",
      "metadata": {
        "id": "wgHVkqDJwPYA"
      },
      "source": [
        "# Naive Bayes\n",
        "\n",
        "The health centre wants to do a blood test on those most at risk of developing diabetes. e.g. if the probability of having diabetes is more than 20\\%.\n",
        "\n",
        "A new patient arrives, who has a BMI of 40. What's the chance that they have diabetes?\n",
        "\n",
        "$$P(Diabetes = true \\; |\\; BMI = 40)$$\n",
        "\n",
        "The dataframe has a 'Diabetes_012' column (0=no diabetes, 1=pre-diabetic, 2=diabetic). So the proportion of the dataset who are diabetic is:"
      ]
    },
    {
      "cell_type": "code",
      "execution_count": null,
      "metadata": {
        "id": "_89ragEuwPYB",
        "outputId": "9369ae61-c479-4ca0-e2d2-0bfc90c8199a",
        "colab": {
          "base_uri": "https://localhost:8080/"
        }
      },
      "outputs": [
        {
          "output_type": "execute_result",
          "data": {
            "text/plain": [
              "0.13933301797540207"
            ]
          },
          "metadata": {},
          "execution_count": 53
        }
      ],
      "source": [
        "np.mean(df['Diabetes_012']==2)"
      ]
    },
    {
      "cell_type": "markdown",
      "metadata": {
        "id": "GmgovwrjwPYB"
      },
      "source": [
        "Note that the dataset is **not a representative sample**, so really we wouldn't necessarily want to use it for doing this sort of inference, but we'll continue, as an illustration!\n",
        "\n",
        "For our patient we can just look at the proportion of those with BMI=40 who have diabetes:"
      ]
    },
    {
      "cell_type": "code",
      "execution_count": null,
      "metadata": {
        "colab": {
          "base_uri": "https://localhost:8080/"
        },
        "id": "qRENA7mywPYB",
        "outputId": "c63f5d27-e5e7-4807-9b93-01d7096b6477"
      },
      "outputs": [
        {
          "output_type": "execute_result",
          "data": {
            "text/plain": [
              "0.32063773250664307"
            ]
          },
          "metadata": {},
          "execution_count": 54
        }
      ],
      "source": [
        "#Here I create a temporary dataframe with those of a BMI of 40 using `df['BMI']==40]`.\n",
        "#I then test each value of the Diabetes_012 column, and find the average number that have\n",
        "#this equal to 2. This givens me the proportion.\n",
        "\n",
        "dfB40 = df[df['BMI']==40] #make a new dataframe with just those with a BMI of 40.\n",
        "np.mean(dfB40['Diabetes_012']==2) #find the proportion of this subset with diabetes"
      ]
    },
    {
      "cell_type": "markdown",
      "metadata": {
        "id": "CUf0LfRQwPYC"
      },
      "source": [
        "So they fall into our 'high risk' category, as 32% of those with a BMI in the dataset have diabetes."
      ]
    },
    {
      "cell_type": "code",
      "execution_count": null,
      "metadata": {
        "id": "Uv-YLKLxwPYC",
        "outputId": "f33c3779-d3fd-4bf5-ad7a-4ba87a55ed0f",
        "colab": {
          "base_uri": "https://localhost:8080/"
        }
      },
      "outputs": [
        {
          "output_type": "execute_result",
          "data": {
            "text/plain": [
              "array([21., 27., 32., 37., 42., 47., 52., 57., 62., 67., 72., 77., 82.])"
            ]
          },
          "metadata": {},
          "execution_count": 55
        }
      ],
      "source": [
        "#note that, due to the categorical nature of the age the ages are just at these\n",
        "#discrete points:\n",
        "np.unique(df['Age'])"
      ]
    },
    {
      "cell_type": "markdown",
      "metadata": {
        "id": "7WjwOFBlwPYC"
      },
      "source": [
        "## The curse of dimensionality\n",
        "\n",
        "Supposing we also know they are in the age 21 category, and smoke...\n",
        "\n",
        "We can again make a dataframe containing just those who:\n",
        "- have a BMI = 40\n",
        "- are in the age = 21 category\n",
        "- and smoke,"
      ]
    },
    {
      "cell_type": "code",
      "execution_count": null,
      "metadata": {
        "colab": {
          "base_uri": "https://localhost:8080/"
        },
        "id": "aTmeRKqjwPYD",
        "outputId": "3fbdbbed-8a35-4f6d-a5d0-5ce509b66ebe"
      },
      "outputs": [
        {
          "output_type": "execute_result",
          "data": {
            "text/plain": [
              "0.0"
            ]
          },
          "metadata": {},
          "execution_count": 56
        }
      ],
      "source": [
        "#Here I create a temporary dataframe containing those who have a BMI of 40, are in the\n",
        "#Age=21 category AND smoke, using `df[(df['BMI']==40) & (df['Age']==21) & (df['Smoker']==1)]`\n",
        "dfM40A21S = df[(df['BMI']==40) & (df['Age']==21) & (df['Smoker']==1)]\n",
        "np.mean(dfM40A21S['Diabetes_012']==2)"
      ]
    },
    {
      "cell_type": "markdown",
      "metadata": {
        "id": "DpR3W_F6wPYE"
      },
      "source": [
        "Great, 0% chance!!\n",
        "But there's something a bit wrong about this analyis..."
      ]
    },
    {
      "cell_type": "code",
      "execution_count": null,
      "metadata": {
        "colab": {
          "base_uri": "https://localhost:8080/"
        },
        "id": "_ga7McPrwPYF",
        "outputId": "6e9779fc-4ddc-4d56-e10c-be657974803a"
      },
      "outputs": [
        {
          "output_type": "execute_result",
          "data": {
            "text/plain": [
              "6"
            ]
          },
          "metadata": {},
          "execution_count": 57
        }
      ],
      "source": [
        "len(dfM40A21S)"
      ]
    },
    {
      "cell_type": "markdown",
      "metadata": {
        "id": "yvGbTMTvwPYG"
      },
      "source": [
        "There are only 6 people in the dataset with a BMI of 40, who are in the 21 years old category, who smoke.\n",
        "\n",
        "We can display this whole set:"
      ]
    },
    {
      "cell_type": "code",
      "execution_count": null,
      "metadata": {
        "colab": {
          "base_uri": "https://localhost:8080/",
          "height": 304
        },
        "id": "_HdHrT0uwPYG",
        "outputId": "dff492ad-7e7d-4747-9290-d5e1619d9298"
      },
      "outputs": [
        {
          "output_type": "execute_result",
          "data": {
            "text/plain": [
              "        Unnamed: 0  Diabetes_012  HighBP  HighChol  CholCheck   BMI  Smoker  \\\n",
              "58186        58186           0.0     0.0       0.0        1.0  40.0     1.0   \n",
              "109921      109921           0.0     0.0       0.0        1.0  40.0     1.0   \n",
              "126529      126529           0.0     1.0       1.0        1.0  40.0     1.0   \n",
              "240700      240700           0.0     1.0       0.0        1.0  40.0     1.0   \n",
              "241084      241084           0.0     1.0       0.0        1.0  40.0     1.0   \n",
              "252523      252523           0.0     0.0       1.0        1.0  40.0     1.0   \n",
              "\n",
              "        Stroke  HeartDiseaseorAttack  PhysActivity  ...  AnyHealthcare  \\\n",
              "58186      0.0                   0.0           1.0  ...            1.0   \n",
              "109921     0.0                   0.0           1.0  ...            1.0   \n",
              "126529     0.0                   0.0           1.0  ...            1.0   \n",
              "240700     0.0                   0.0           1.0  ...            1.0   \n",
              "241084     0.0                   0.0           1.0  ...            1.0   \n",
              "252523     0.0                   0.0           1.0  ...            1.0   \n",
              "\n",
              "        NoDocbcCost  GenHlth  MentHlth  PhysHlth  DiffWalk  Sex   Age  \\\n",
              "58186           0.0      2.0      11.0       0.0       0.0  1.0  21.0   \n",
              "109921          0.0      1.0       0.0       0.0       0.0  0.0  21.0   \n",
              "126529          0.0      3.0      20.0       0.0       0.0  1.0  21.0   \n",
              "240700          0.0      2.0      30.0       0.0       0.0  0.0  21.0   \n",
              "241084          0.0      3.0       2.0       0.0       0.0  1.0  21.0   \n",
              "252523          0.0      5.0       0.0      20.0       0.0  0.0  21.0   \n",
              "\n",
              "        Education  Income  \n",
              "58186         4.0     8.0  \n",
              "109921        5.0     8.0  \n",
              "126529        5.0     7.0  \n",
              "240700        4.0     2.0  \n",
              "241084        4.0     3.0  \n",
              "252523        5.0     2.0  \n",
              "\n",
              "[6 rows x 23 columns]"
            ],
            "text/html": [
              "\n",
              "  <div id=\"df-2ddec108-a6de-488e-bff9-fc12ebdefed2\" class=\"colab-df-container\">\n",
              "    <div>\n",
              "<style scoped>\n",
              "    .dataframe tbody tr th:only-of-type {\n",
              "        vertical-align: middle;\n",
              "    }\n",
              "\n",
              "    .dataframe tbody tr th {\n",
              "        vertical-align: top;\n",
              "    }\n",
              "\n",
              "    .dataframe thead th {\n",
              "        text-align: right;\n",
              "    }\n",
              "</style>\n",
              "<table border=\"1\" class=\"dataframe\">\n",
              "  <thead>\n",
              "    <tr style=\"text-align: right;\">\n",
              "      <th></th>\n",
              "      <th>Unnamed: 0</th>\n",
              "      <th>Diabetes_012</th>\n",
              "      <th>HighBP</th>\n",
              "      <th>HighChol</th>\n",
              "      <th>CholCheck</th>\n",
              "      <th>BMI</th>\n",
              "      <th>Smoker</th>\n",
              "      <th>Stroke</th>\n",
              "      <th>HeartDiseaseorAttack</th>\n",
              "      <th>PhysActivity</th>\n",
              "      <th>...</th>\n",
              "      <th>AnyHealthcare</th>\n",
              "      <th>NoDocbcCost</th>\n",
              "      <th>GenHlth</th>\n",
              "      <th>MentHlth</th>\n",
              "      <th>PhysHlth</th>\n",
              "      <th>DiffWalk</th>\n",
              "      <th>Sex</th>\n",
              "      <th>Age</th>\n",
              "      <th>Education</th>\n",
              "      <th>Income</th>\n",
              "    </tr>\n",
              "  </thead>\n",
              "  <tbody>\n",
              "    <tr>\n",
              "      <th>58186</th>\n",
              "      <td>58186</td>\n",
              "      <td>0.0</td>\n",
              "      <td>0.0</td>\n",
              "      <td>0.0</td>\n",
              "      <td>1.0</td>\n",
              "      <td>40.0</td>\n",
              "      <td>1.0</td>\n",
              "      <td>0.0</td>\n",
              "      <td>0.0</td>\n",
              "      <td>1.0</td>\n",
              "      <td>...</td>\n",
              "      <td>1.0</td>\n",
              "      <td>0.0</td>\n",
              "      <td>2.0</td>\n",
              "      <td>11.0</td>\n",
              "      <td>0.0</td>\n",
              "      <td>0.0</td>\n",
              "      <td>1.0</td>\n",
              "      <td>21.0</td>\n",
              "      <td>4.0</td>\n",
              "      <td>8.0</td>\n",
              "    </tr>\n",
              "    <tr>\n",
              "      <th>109921</th>\n",
              "      <td>109921</td>\n",
              "      <td>0.0</td>\n",
              "      <td>0.0</td>\n",
              "      <td>0.0</td>\n",
              "      <td>1.0</td>\n",
              "      <td>40.0</td>\n",
              "      <td>1.0</td>\n",
              "      <td>0.0</td>\n",
              "      <td>0.0</td>\n",
              "      <td>1.0</td>\n",
              "      <td>...</td>\n",
              "      <td>1.0</td>\n",
              "      <td>0.0</td>\n",
              "      <td>1.0</td>\n",
              "      <td>0.0</td>\n",
              "      <td>0.0</td>\n",
              "      <td>0.0</td>\n",
              "      <td>0.0</td>\n",
              "      <td>21.0</td>\n",
              "      <td>5.0</td>\n",
              "      <td>8.0</td>\n",
              "    </tr>\n",
              "    <tr>\n",
              "      <th>126529</th>\n",
              "      <td>126529</td>\n",
              "      <td>0.0</td>\n",
              "      <td>1.0</td>\n",
              "      <td>1.0</td>\n",
              "      <td>1.0</td>\n",
              "      <td>40.0</td>\n",
              "      <td>1.0</td>\n",
              "      <td>0.0</td>\n",
              "      <td>0.0</td>\n",
              "      <td>1.0</td>\n",
              "      <td>...</td>\n",
              "      <td>1.0</td>\n",
              "      <td>0.0</td>\n",
              "      <td>3.0</td>\n",
              "      <td>20.0</td>\n",
              "      <td>0.0</td>\n",
              "      <td>0.0</td>\n",
              "      <td>1.0</td>\n",
              "      <td>21.0</td>\n",
              "      <td>5.0</td>\n",
              "      <td>7.0</td>\n",
              "    </tr>\n",
              "    <tr>\n",
              "      <th>240700</th>\n",
              "      <td>240700</td>\n",
              "      <td>0.0</td>\n",
              "      <td>1.0</td>\n",
              "      <td>0.0</td>\n",
              "      <td>1.0</td>\n",
              "      <td>40.0</td>\n",
              "      <td>1.0</td>\n",
              "      <td>0.0</td>\n",
              "      <td>0.0</td>\n",
              "      <td>1.0</td>\n",
              "      <td>...</td>\n",
              "      <td>1.0</td>\n",
              "      <td>0.0</td>\n",
              "      <td>2.0</td>\n",
              "      <td>30.0</td>\n",
              "      <td>0.0</td>\n",
              "      <td>0.0</td>\n",
              "      <td>0.0</td>\n",
              "      <td>21.0</td>\n",
              "      <td>4.0</td>\n",
              "      <td>2.0</td>\n",
              "    </tr>\n",
              "    <tr>\n",
              "      <th>241084</th>\n",
              "      <td>241084</td>\n",
              "      <td>0.0</td>\n",
              "      <td>1.0</td>\n",
              "      <td>0.0</td>\n",
              "      <td>1.0</td>\n",
              "      <td>40.0</td>\n",
              "      <td>1.0</td>\n",
              "      <td>0.0</td>\n",
              "      <td>0.0</td>\n",
              "      <td>1.0</td>\n",
              "      <td>...</td>\n",
              "      <td>1.0</td>\n",
              "      <td>0.0</td>\n",
              "      <td>3.0</td>\n",
              "      <td>2.0</td>\n",
              "      <td>0.0</td>\n",
              "      <td>0.0</td>\n",
              "      <td>1.0</td>\n",
              "      <td>21.0</td>\n",
              "      <td>4.0</td>\n",
              "      <td>3.0</td>\n",
              "    </tr>\n",
              "    <tr>\n",
              "      <th>252523</th>\n",
              "      <td>252523</td>\n",
              "      <td>0.0</td>\n",
              "      <td>0.0</td>\n",
              "      <td>1.0</td>\n",
              "      <td>1.0</td>\n",
              "      <td>40.0</td>\n",
              "      <td>1.0</td>\n",
              "      <td>0.0</td>\n",
              "      <td>0.0</td>\n",
              "      <td>1.0</td>\n",
              "      <td>...</td>\n",
              "      <td>1.0</td>\n",
              "      <td>0.0</td>\n",
              "      <td>5.0</td>\n",
              "      <td>0.0</td>\n",
              "      <td>20.0</td>\n",
              "      <td>0.0</td>\n",
              "      <td>0.0</td>\n",
              "      <td>21.0</td>\n",
              "      <td>5.0</td>\n",
              "      <td>2.0</td>\n",
              "    </tr>\n",
              "  </tbody>\n",
              "</table>\n",
              "<p>6 rows × 23 columns</p>\n",
              "</div>\n",
              "    <div class=\"colab-df-buttons\">\n",
              "\n",
              "  <div class=\"colab-df-container\">\n",
              "    <button class=\"colab-df-convert\" onclick=\"convertToInteractive('df-2ddec108-a6de-488e-bff9-fc12ebdefed2')\"\n",
              "            title=\"Convert this dataframe to an interactive table.\"\n",
              "            style=\"display:none;\">\n",
              "\n",
              "  <svg xmlns=\"http://www.w3.org/2000/svg\" height=\"24px\" viewBox=\"0 -960 960 960\">\n",
              "    <path d=\"M120-120v-720h720v720H120Zm60-500h600v-160H180v160Zm220 220h160v-160H400v160Zm0 220h160v-160H400v160ZM180-400h160v-160H180v160Zm440 0h160v-160H620v160ZM180-180h160v-160H180v160Zm440 0h160v-160H620v160Z\"/>\n",
              "  </svg>\n",
              "    </button>\n",
              "\n",
              "  <style>\n",
              "    .colab-df-container {\n",
              "      display:flex;\n",
              "      gap: 12px;\n",
              "    }\n",
              "\n",
              "    .colab-df-convert {\n",
              "      background-color: #E8F0FE;\n",
              "      border: none;\n",
              "      border-radius: 50%;\n",
              "      cursor: pointer;\n",
              "      display: none;\n",
              "      fill: #1967D2;\n",
              "      height: 32px;\n",
              "      padding: 0 0 0 0;\n",
              "      width: 32px;\n",
              "    }\n",
              "\n",
              "    .colab-df-convert:hover {\n",
              "      background-color: #E2EBFA;\n",
              "      box-shadow: 0px 1px 2px rgba(60, 64, 67, 0.3), 0px 1px 3px 1px rgba(60, 64, 67, 0.15);\n",
              "      fill: #174EA6;\n",
              "    }\n",
              "\n",
              "    .colab-df-buttons div {\n",
              "      margin-bottom: 4px;\n",
              "    }\n",
              "\n",
              "    [theme=dark] .colab-df-convert {\n",
              "      background-color: #3B4455;\n",
              "      fill: #D2E3FC;\n",
              "    }\n",
              "\n",
              "    [theme=dark] .colab-df-convert:hover {\n",
              "      background-color: #434B5C;\n",
              "      box-shadow: 0px 1px 3px 1px rgba(0, 0, 0, 0.15);\n",
              "      filter: drop-shadow(0px 1px 2px rgba(0, 0, 0, 0.3));\n",
              "      fill: #FFFFFF;\n",
              "    }\n",
              "  </style>\n",
              "\n",
              "    <script>\n",
              "      const buttonEl =\n",
              "        document.querySelector('#df-2ddec108-a6de-488e-bff9-fc12ebdefed2 button.colab-df-convert');\n",
              "      buttonEl.style.display =\n",
              "        google.colab.kernel.accessAllowed ? 'block' : 'none';\n",
              "\n",
              "      async function convertToInteractive(key) {\n",
              "        const element = document.querySelector('#df-2ddec108-a6de-488e-bff9-fc12ebdefed2');\n",
              "        const dataTable =\n",
              "          await google.colab.kernel.invokeFunction('convertToInteractive',\n",
              "                                                    [key], {});\n",
              "        if (!dataTable) return;\n",
              "\n",
              "        const docLinkHtml = 'Like what you see? Visit the ' +\n",
              "          '<a target=\"_blank\" href=https://colab.research.google.com/notebooks/data_table.ipynb>data table notebook</a>'\n",
              "          + ' to learn more about interactive tables.';\n",
              "        element.innerHTML = '';\n",
              "        dataTable['output_type'] = 'display_data';\n",
              "        await google.colab.output.renderOutput(dataTable, element);\n",
              "        const docLink = document.createElement('div');\n",
              "        docLink.innerHTML = docLinkHtml;\n",
              "        element.appendChild(docLink);\n",
              "      }\n",
              "    </script>\n",
              "  </div>\n",
              "\n",
              "\n",
              "<div id=\"df-22d2b18f-d6b9-41a0-a821-fca17a0b7542\">\n",
              "  <button class=\"colab-df-quickchart\" onclick=\"quickchart('df-22d2b18f-d6b9-41a0-a821-fca17a0b7542')\"\n",
              "            title=\"Suggest charts.\"\n",
              "            style=\"display:none;\">\n",
              "\n",
              "<svg xmlns=\"http://www.w3.org/2000/svg\" height=\"24px\"viewBox=\"0 0 24 24\"\n",
              "     width=\"24px\">\n",
              "    <g>\n",
              "        <path d=\"M19 3H5c-1.1 0-2 .9-2 2v14c0 1.1.9 2 2 2h14c1.1 0 2-.9 2-2V5c0-1.1-.9-2-2-2zM9 17H7v-7h2v7zm4 0h-2V7h2v10zm4 0h-2v-4h2v4z\"/>\n",
              "    </g>\n",
              "</svg>\n",
              "  </button>\n",
              "\n",
              "<style>\n",
              "  .colab-df-quickchart {\n",
              "      --bg-color: #E8F0FE;\n",
              "      --fill-color: #1967D2;\n",
              "      --hover-bg-color: #E2EBFA;\n",
              "      --hover-fill-color: #174EA6;\n",
              "      --disabled-fill-color: #AAA;\n",
              "      --disabled-bg-color: #DDD;\n",
              "  }\n",
              "\n",
              "  [theme=dark] .colab-df-quickchart {\n",
              "      --bg-color: #3B4455;\n",
              "      --fill-color: #D2E3FC;\n",
              "      --hover-bg-color: #434B5C;\n",
              "      --hover-fill-color: #FFFFFF;\n",
              "      --disabled-bg-color: #3B4455;\n",
              "      --disabled-fill-color: #666;\n",
              "  }\n",
              "\n",
              "  .colab-df-quickchart {\n",
              "    background-color: var(--bg-color);\n",
              "    border: none;\n",
              "    border-radius: 50%;\n",
              "    cursor: pointer;\n",
              "    display: none;\n",
              "    fill: var(--fill-color);\n",
              "    height: 32px;\n",
              "    padding: 0;\n",
              "    width: 32px;\n",
              "  }\n",
              "\n",
              "  .colab-df-quickchart:hover {\n",
              "    background-color: var(--hover-bg-color);\n",
              "    box-shadow: 0 1px 2px rgba(60, 64, 67, 0.3), 0 1px 3px 1px rgba(60, 64, 67, 0.15);\n",
              "    fill: var(--button-hover-fill-color);\n",
              "  }\n",
              "\n",
              "  .colab-df-quickchart-complete:disabled,\n",
              "  .colab-df-quickchart-complete:disabled:hover {\n",
              "    background-color: var(--disabled-bg-color);\n",
              "    fill: var(--disabled-fill-color);\n",
              "    box-shadow: none;\n",
              "  }\n",
              "\n",
              "  .colab-df-spinner {\n",
              "    border: 2px solid var(--fill-color);\n",
              "    border-color: transparent;\n",
              "    border-bottom-color: var(--fill-color);\n",
              "    animation:\n",
              "      spin 1s steps(1) infinite;\n",
              "  }\n",
              "\n",
              "  @keyframes spin {\n",
              "    0% {\n",
              "      border-color: transparent;\n",
              "      border-bottom-color: var(--fill-color);\n",
              "      border-left-color: var(--fill-color);\n",
              "    }\n",
              "    20% {\n",
              "      border-color: transparent;\n",
              "      border-left-color: var(--fill-color);\n",
              "      border-top-color: var(--fill-color);\n",
              "    }\n",
              "    30% {\n",
              "      border-color: transparent;\n",
              "      border-left-color: var(--fill-color);\n",
              "      border-top-color: var(--fill-color);\n",
              "      border-right-color: var(--fill-color);\n",
              "    }\n",
              "    40% {\n",
              "      border-color: transparent;\n",
              "      border-right-color: var(--fill-color);\n",
              "      border-top-color: var(--fill-color);\n",
              "    }\n",
              "    60% {\n",
              "      border-color: transparent;\n",
              "      border-right-color: var(--fill-color);\n",
              "    }\n",
              "    80% {\n",
              "      border-color: transparent;\n",
              "      border-right-color: var(--fill-color);\n",
              "      border-bottom-color: var(--fill-color);\n",
              "    }\n",
              "    90% {\n",
              "      border-color: transparent;\n",
              "      border-bottom-color: var(--fill-color);\n",
              "    }\n",
              "  }\n",
              "</style>\n",
              "\n",
              "  <script>\n",
              "    async function quickchart(key) {\n",
              "      const quickchartButtonEl =\n",
              "        document.querySelector('#' + key + ' button');\n",
              "      quickchartButtonEl.disabled = true;  // To prevent multiple clicks.\n",
              "      quickchartButtonEl.classList.add('colab-df-spinner');\n",
              "      try {\n",
              "        const charts = await google.colab.kernel.invokeFunction(\n",
              "            'suggestCharts', [key], {});\n",
              "      } catch (error) {\n",
              "        console.error('Error during call to suggestCharts:', error);\n",
              "      }\n",
              "      quickchartButtonEl.classList.remove('colab-df-spinner');\n",
              "      quickchartButtonEl.classList.add('colab-df-quickchart-complete');\n",
              "    }\n",
              "    (() => {\n",
              "      let quickchartButtonEl =\n",
              "        document.querySelector('#df-22d2b18f-d6b9-41a0-a821-fca17a0b7542 button');\n",
              "      quickchartButtonEl.style.display =\n",
              "        google.colab.kernel.accessAllowed ? 'block' : 'none';\n",
              "    })();\n",
              "  </script>\n",
              "</div>\n",
              "    </div>\n",
              "  </div>\n"
            ]
          },
          "metadata": {},
          "execution_count": 58
        }
      ],
      "source": [
        "dfM40A21S"
      ]
    },
    {
      "cell_type": "markdown",
      "metadata": {
        "id": "UvGywVj9wPYH"
      },
      "source": [
        "### What are we assuming here?\n",
        "\n",
        "When we assumed that we can approximate the probability with the ratio of cases to the total number in that condition, we were assuming that the total number was very large, so we were approximating infinite numbers of samples,\n",
        "\n",
        "$$P(Y = y | Z) \\approx \\frac{n_{y|z}}{N_Z}$$\n",
        "\n",
        "Six is not a large enough sample."
      ]
    },
    {
      "cell_type": "markdown",
      "metadata": {
        "id": "8eUzwlQqwPYH"
      },
      "source": [
        "### Naive Bayes\n",
        "\n",
        "The Naive Bayes classifier is an approach for making this type of inference by assuming **conditional independence between the features** (given the class). We've already seen (with the fruit and veg above) that this assumption probably is invalid, but it can still give reasonable results.\n",
        "\n",
        "Let's think about this more carefully:\n",
        "\n",
        "We are interested in computing the probability of having diabetes (given some features about the person), i.e.:\n",
        "\n",
        "$P(D=true | x_1, x_2,...,x_n)$.\n",
        "\n",
        "Quoting from the [wikipedia article](https://en.wikipedia.org/wiki/Naive_Bayes_classifier)\n",
        "\n",
        "> The problem with the above formulation is that if the number of features n is large or if a feature can take on a large number of values, then basing such a model on probability tables is infeasible.\n",
        "\n",
        "We've seen this problem with the patient above. Only six rows in the database have the same features.\n",
        "\n",
        "### Rewriting with Bayes Rule\n",
        "\n",
        "We can write the above conditional distribution as:\n",
        "\n",
        "$$P(D | x_1, x_2,...,x_n) = \\frac{P(x_1, x_2,...,x_n | D) P(D)}{P(x_1, x_2,...,x_n)}$$\n",
        "\n",
        "We can use the product rule (which leads to the chain rule, when applied lots of times), to see that we can write the likelihood term as:\n",
        "\n",
        "$$P(x_1, x_2,...,x_n | D) = P(x_1 | x_2,...,x_n, D) \\; P(x_2 | x_3,...,x_n, D) \\;...\\; P(x_{n-1} \\;|\\; x_n, D)$$\n",
        "\n",
        "It's not obvious to see why, so let's go through this step-by-step. We start with our likelihood term telling us the probability of having a BMI of 40, an age of 21 and smoking, given Diabetes = true (or false):\n",
        "\n",
        "$$P(B=40, A=21, S = true | D)$$\n",
        "\n",
        "We can write this using the product rule, as:\n",
        "\n",
        "$$P(B=40 | A=21, S = true, D) \\;\\; P(A = 21, S = true | D)$$\n",
        "\n",
        "We can then apply the same reasoning to the second term (try this yourself).\n",
        "\n",
        "> It's probably worth stopping, writing this down on a bit of paper and thinking about it! This is quite a difficult step, and once you've understood it the rest will be fairly easy.\n",
        ">\n",
        ">  We are using:\n",
        "> $$P(A,B) = P(A|B)\\; P(B)$$\n",
        "> but there's an additional conditional, 'given C' on everything:\n",
        "> $$P(A,B|C) = P(A|B,C)\\; P(B|C)$$\n",
        "\n",
        "The result is that we can write our likelihood as a product of conditional probabilities:\n",
        "\n",
        "$$P(B=40, A=21, S = true | D) \\; \\\\= \\\\ P(B=40 | A=21, S = true, D) \\;\\;\\times\\;\\; P(A=21 | S = true, D) \\;\\;\\times\\;\\; P(S=true | D)$$\n",
        "\n",
        "\n",
        "### The Naive-bit of Naive Bayes\n",
        "\n",
        "> **Reminder: Condition independence.** If two random variables ($X,Y$) are conditionally independent, given a third ($Z$) it means that $P(X|Y,Z) = P(X|Z)$. I.e. (for a given value of Z) the probability of $X$ isn't influenced by the value of $Y$. It is written as $X \\perp \\!\\!\\! \\perp Y | Z$.\n",
        "\n",
        "Naive bayes: We now make the (conditional) independence assumption in our expression above, that **all the features are conditionally independent (given the diabetes status, D)**.\n",
        "\n",
        "So we can write that:\n",
        "\n",
        "$$P(B=40 \\; | \\; A=21, \\; S = true, \\; D) \\; =\\; P(B=40\\; |\\; D)$$\n",
        "\n",
        "and,\n",
        "\n",
        "$$P(A=21 | S = true, D) = P(A=21 | D)$$\n",
        "\n",
        "Substituting in:\n",
        "\n",
        "$$P(B=40, A=21, S = true | D) \\; =\\; P(B=40 | D) \\; P(A=21 | D) \\; P(S=true | D)$$\n",
        "\n",
        "Please note that this, in general, isn't true. We are saying it's true because we have assumed conditional independence, e.g. that $B \\perp \\!\\!\\! \\perp A | D$, etc."
      ]
    },
    {
      "cell_type": "markdown",
      "metadata": {
        "id": "25tkgwipwPYI"
      },
      "source": [
        "### Why is this useful?\n",
        "\n",
        "The number of people in the dataset who had a BMI=40, were age=21, and smoked was only 6. But lots of individuals had *each* of these characteristics, so we can use these separately:\n",
        "\n",
        "Note that Naive Bayes is often used to compute a ratio between two conditions, but here we'll compute the posterior.\n",
        "\n",
        "$$P(D = true | x_1, x_2,...,x_n) = \\frac{P(x_1, x_2,...,x_n | D = true) P(D = true)}{P(x_1, x_2,...,x_n)}$$\n",
        "\n",
        "To compute the demoninator we marginalise, i.e. we need to compute the numerator for $D = true$ and $D = false$ and add them up:\n",
        "\n",
        "So notice numerator is the joint probability:\n",
        "\n",
        "$$P(x_1, x_2,...,x_n, D = true) = P(x_1, x_2,...,x_n | D = true) P(D = true)$$\n",
        "\n",
        "and\n",
        "\n",
        "$$P(x_1, x_2,...,x_n, D = false) = P(x_1, x_2,...,x_n | D = false) P(D = false)$$\n",
        "\n",
        "So we find these and add them up:\n",
        "\n",
        "$$P(x_1, x_2,...,x_n) = P(x_1, x_2,...,x_n, D = true) + P(x_1, x_2,...,x_n, D = false)$$"
      ]
    },
    {
      "cell_type": "markdown",
      "metadata": {
        "id": "36BeTjjHwPYJ"
      },
      "source": [
        "### Putting it together...\n",
        "\n",
        "Applying the Naive Bayes (conditional independence assumption) and substituting in our features (to keep it readable I've hidden the values the RVs are equal to). So we assume:\n",
        "\n",
        "$P(B, A, S | D)\\;\\;\\; =\\; P(B | D)\\;\\;\\; P(A | D) \\;\\;\\; P(S | D)\\\\\n",
        "P(B, A, S | \\neg D)\\; =\\; P(B | \\neg D)\\; P(A | \\neg D) \\; P(S | \\neg D)$\n",
        "\n",
        "We can then use these to compute the denominator. Here we're using the above approximations to the likelihoods:\n",
        "\n",
        "$$P(B,A,S) = P(B, A, S | D) P(D) + P(B, A, S| \\neg D)P(\\neg D)$$\n",
        "\n",
        "and finally the posterior we're interested in: (remember that we are now going to be using our approximations, based on our assumptions about independence for these terms)\n",
        "\n",
        "$$P(D | B, A, S) = \\frac{P(B | D)\\; P(A | D) \\; P(S | D)\\;P(D)}{P(B, A, S)}$$\n"
      ]
    },
    {
      "cell_type": "code",
      "execution_count": null,
      "metadata": {
        "id": "JPRkMB6PwPYJ"
      },
      "outputs": [],
      "source": [
        "dfD = df[df['Diabetes_012']==2]\n",
        "dfnotD = df[df['Diabetes_012']==0]\n",
        "\n",
        "PB40_givenDtrue = np.mean(dfD['BMI']==40)\n",
        "PB40_givenDfalse = np.mean(dfnotD['BMI']==40)\n",
        "\n",
        "PA21_givenDtrue = np.mean(dfD['Age']==21)\n",
        "PA21_givenDfalse = np.mean(dfnotD['Age']==21)\n",
        "\n",
        "PS_givenDtrue = np.mean(dfD['Smoker']==1)\n",
        "PS_givenDfalse = np.mean(dfnotD['Smoker']==1)\n",
        "\n",
        "PDtrue = np.mean(df['Diabetes_012']==2)  #correction\n",
        "PDfalse = np.mean(df['Diabetes_012']==0) #correction"
      ]
    },
    {
      "cell_type": "code",
      "execution_count": null,
      "metadata": {
        "id": "Pe7zekiNwPYK",
        "outputId": "87cc3309-a0f3-4ed1-fe4a-8e10f3f78017",
        "colab": {
          "base_uri": "https://localhost:8080/"
        }
      },
      "outputs": [
        {
          "output_type": "stream",
          "name": "stdout",
          "text": [
            "Probaility of diabetes, given BMI=40, Age=21 and Smoker = 4.8 %\n"
          ]
        }
      ],
      "source": [
        "PallDtrue = (PB40_givenDtrue * PA21_givenDtrue * PS_givenDtrue * PDtrue)\n",
        "PallDfalse = (PB40_givenDfalse * PA21_givenDfalse * PS_givenDfalse * PDfalse)\n",
        "\n",
        "print(\"Probaility of diabetes, given BMI=40, Age=21 and Smoker = %0.1f %%\" % (100*(PallDtrue) / (PallDtrue + PallDfalse)))"
      ]
    },
    {
      "cell_type": "markdown",
      "metadata": {
        "id": "PNCuQCjawPYK"
      },
      "source": [
        "### Exercise:\n",
        "\n",
        "- a. What's the probability they have diabetes if they are 62, not a smoker and have a BMI of 20?\n",
        "- b. What's the probability they are over 50 if they have a BMI of 20 and have diabetes and don't smoke? Use both Naive Bayes and compare to the answer computed with the full conditional distribution (without the independence assumption)."
      ]
    },
    {
      "cell_type": "code",
      "execution_count": null,
      "metadata": {
        "id": "mM2iJDAqwPYL"
      },
      "outputs": [],
      "source": [
        "#Answers here."
      ]
    },
    {
      "cell_type": "markdown",
      "metadata": {
        "id": "fyQJsg1UwPYM"
      },
      "source": [
        "### Related topics\n",
        "\n",
        "- If you play with Naive Bayes you might find situations where no rows in the training set have that feature value. A simple approach to handling that is simply to 'add one' to all the frequencies. This is [Laplace Smoothing](https://en.wikipedia.org/wiki/Additive_smoothing) (and is the equivalent to adding a prior).\n",
        "- Naive Bayes can be considered as a (simple) Bayesian belief network:<br/>\n",
        "<img width=300 src=\"https://www.researchgate.net/publication/283161090/figure/fig1/AS:648613512364033@1531652920537/A-typical-Naive-Bayes-network-diagram.png\" /><br/>\n",
        "<small>A Naive Bayes Network, from <i>Ibrahim et al. (2015). doi: 10.1016/j.procs.2015.09.194.</i></small><br/>\n",
        "A more complex network can be constructed, with some conditional dependencies added between features using edges. [Wikipedia article on Bayesian networks](https://en.wikipedia.org/wiki/Bayesian_network).\n",
        "\n",
        "### Summary\n",
        "\n",
        "With a handful of basic tools (the product rule, marginalisation, etc) we are able to perform really useful inference about important questions."
      ]
    },
    {
      "cell_type": "code",
      "source": [],
      "metadata": {
        "id": "d2TVIR566skE"
      },
      "execution_count": null,
      "outputs": []
    }
  ],
  "metadata": {
    "kernelspec": {
      "display_name": "Python 3",
      "language": "python",
      "name": "python3"
    },
    "language_info": {
      "codemirror_mode": {
        "name": "ipython",
        "version": 3
      },
      "file_extension": ".py",
      "mimetype": "text/x-python",
      "name": "python",
      "nbconvert_exporter": "python",
      "pygments_lexer": "ipython3",
      "version": "3.8.3"
    },
    "colab": {
      "provenance": [],
      "collapsed_sections": [
        "8eUzwlQqwPYH",
        "25tkgwipwPYI"
      ],
      "include_colab_link": true
    }
  },
  "nbformat": 4,
  "nbformat_minor": 0
}